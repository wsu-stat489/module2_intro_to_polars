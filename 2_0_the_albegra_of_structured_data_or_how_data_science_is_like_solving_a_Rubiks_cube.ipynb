{
 "cells": [
  {
   "cell_type": "markdown",
   "metadata": {},
   "source": [
    "# The Algebra of Structured Data\n",
    "\n",
    "or\n",
    "\n",
    "# How data science is like solving a Rubik's cube"
   ]
  },
  {
   "cell_type": "markdown",
   "metadata": {},
   "source": [
    "## How do you solve a Rubik's cube?\n",
    "\n",
    "1. Understand the individual actions\n",
    "2. Understand the effect of a combination of actions\n",
    "3. Find a sequence of actions to get the desired result\n",
    "    * *Solving* the cube"
   ]
  },
  {
   "cell_type": "markdown",
   "metadata": {},
   "source": [
    "## Rubik's Cube - 1. Understanding the individual actions\n",
    "\n",
    "<img src=\"./img/cube_actions.gif\">\n",
    "\n",
    "[Source: Google's Rubik's cube doodle](https://www.google.com/doodles/rubiks-cube?doodle=12798923&domain_name=google.com&hl=en)"
   ]
  },
  {
   "cell_type": "markdown",
   "metadata": {},
   "source": [
    "## Rubik's Cube - 2. Understanding the combination of actions\n",
    "\n",
    "<img src=\"https://solvingarubikscube.files.wordpress.com/2017/03/f-r-d-r-f21.gif?w=900\" width=400>\n",
    "\n",
    "[Image source](https://solvingarubikscube.wordpress.com/white-cross/)"
   ]
  },
  {
   "cell_type": "markdown",
   "metadata": {},
   "source": [
    "## Rubik's Cube - Solving the cube\n",
    "\n",
    "<img src=\"./img/cube_solution.gif\">\n",
    "\n",
    "[Image Source (and great video)](http://www.shixie.org/project_grouptheory.html)"
   ]
  },
  {
   "cell_type": "markdown",
   "metadata": {},
   "source": [
    "## What is (abstract) algebra?\n",
    "\n",
    "1. Precisely define individual actions\n",
    "    * Examples: Adding numbers, multiply matrices, rotating objects\n",
    "2. Study the properties of the defined/combined actions \n",
    "    * Commutes? Associative?\n",
    "    * Identify?\n",
    "    * Inverses?\n",
    "3. Finding a sequence of actions to get the desired result\n",
    "    * *Solving* equations"
   ]
  },
  {
   "cell_type": "markdown",
   "metadata": {},
   "source": [
    "## So .... eh ... solving a Rubik's cube is math?\n",
    "\n",
    "<img src=\"./img/cube_subgroup.png\" width=400>\n",
    "\n",
    "[Clearly!](https://web.mit.edu/sp.268/www/rubik.pdf)   [Obviously!](http://www.math.harvard.edu/~jjchen/docs/Group%20Theory%20and%20the%20Rubik%27s%20Cube.pdf)    [Duh!](https://en.wikipedia.org/wiki/Rubik%27s_Cube_group)  [(image source)](https://en.wikipedia.org/wiki/Rubik%27s_Cube_group)"
   ]
  },
  {
   "cell_type": "markdown",
   "metadata": {},
   "source": [
    "## So ... er ... what does this have to do with data science again?\n",
    "\n",
    "When working with stuctured/tabular data, we must\n",
    "\n",
    "1. Understand the individual actions we can take on tables\n",
    "2. Understand the effect of a combination of actions\n",
    "3. Find a sequence of actions to get the desired result\n",
    "    * *Solving* the table"
   ]
  },
  {
   "cell_type": "markdown",
   "metadata": {},
   "source": [
    "## Step 1 - Understanding the Table Actions/Verbs\n",
    "\n",
    "### Transformation in a Single Table\n",
    "\n",
    "<img src=\"./img/table_verbs1.gif\" width=800>"
   ]
  },
  {
   "cell_type": "markdown",
   "metadata": {},
   "source": [
    "## Step 1 - Understanding the Table Actions/Verbs\n",
    "\n",
    "### Reshaping a Table\n",
    "\n",
    "<img src=\"./img/table_verbs2.gif\" width=800>"
   ]
  },
  {
   "cell_type": "markdown",
   "metadata": {},
   "source": [
    "## Step 1 - Understanding the Table Actions/Verbs\n",
    "\n",
    "### Combining Tables with Set Operations\n",
    "\n",
    "<img src=\"./img/table_verbs_set.gif\" width=800>"
   ]
  },
  {
   "cell_type": "markdown",
   "metadata": {},
   "source": [
    "## Step 1 - Understanding the Table Actions/Verbs\n",
    "\n",
    "### Joining Two Tables\n",
    "\n",
    "<img src=\"./img/table_verbs_join.gif\" width=800>"
   ]
  },
  {
   "cell_type": "markdown",
   "metadata": {},
   "source": [
    "## Step 2 - Understanding the effect of a combination of actions\n",
    "\n",
    "### Get your data science moves on!\n",
    "\n",
    "<img src=\"./img/table_moves.gif\" width=800>"
   ]
  },
  {
   "cell_type": "markdown",
   "metadata": {},
   "source": [
    "## Step 3 - \"Solve\" the Table\n",
    "\n",
    "\n",
    "<img src=\"./img/solve_table.gif\" width=800>"
   ]
  },
  {
   "cell_type": "markdown",
   "metadata": {},
   "source": [
    "## So why should we think of this more like an algebra?\n",
    "\n",
    "I argue that \n",
    "\n",
    "* a data scientist is more interested in the effects of the actions than how to construct a data sentence.\n",
    "* a great data scientist can solve data manipulation problems like a [speedcubing](https://solvethecube.com/speedcubing) expert solves a Rubik's cube. "
   ]
  },
  {
   "cell_type": "markdown",
   "metadata": {},
   "source": [
    "## How we will proceed\n",
    "\n",
    "* **Module 2:** Basics of `pandas` + `dfply`\n",
    "* **Module 3:** A more in depth look at `mutate`\n",
    "* **Module 4:** Cleaning data"
   ]
  }
 ],
 "metadata": {
  "kernelspec": {
   "display_name": "Python 3 (ipykernel)",
   "language": "python",
   "name": "python3"
  },
  "language_info": {
   "codemirror_mode": {
    "name": "ipython",
    "version": 3
   },
   "file_extension": ".py",
   "mimetype": "text/x-python",
   "name": "python",
   "nbconvert_exporter": "python",
   "pygments_lexer": "ipython3",
   "version": "3.9.12"
  }
 },
 "nbformat": 4,
 "nbformat_minor": 2
}
