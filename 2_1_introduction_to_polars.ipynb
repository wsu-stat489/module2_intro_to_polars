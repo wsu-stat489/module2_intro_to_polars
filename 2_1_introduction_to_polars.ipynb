{
 "cells": [
  {
   "cell_type": "code",
   "execution_count": 1,
   "metadata": {},
   "outputs": [
    {
     "name": "stdout",
     "output_type": "stream",
     "text": [
      "Collecting polars[all]\n",
      "  Downloading polars-0.14.26-cp37-abi3-macosx_11_0_arm64.whl (11.7 MB)\n",
      "\u001b[K     |████████████████████████████████| 11.7 MB 7.6 MB/s eta 0:00:01    |█████▊                          | 2.1 MB 1.6 MB/s eta 0:00:07     |█████████▍                      | 3.4 MB 1.6 MB/s eta 0:00:06     |███████████▋                    | 4.3 MB 1.6 MB/s eta 0:00:05     |█████████████████████████████▊  | 10.9 MB 4.0 MB/s eta 0:00:01\n",
      "\u001b[?25hRequirement already satisfied: typing_extensions>=4.0.0 in /Users/toddiverson/.pyenv/versions/anaconda3-2022.05/lib/python3.9/site-packages (from polars[all]) (4.1.1)\n",
      "Requirement already satisfied: pyarrow>=4.0.0 in /Users/toddiverson/.pyenv/versions/anaconda3-2022.05/lib/python3.9/site-packages (from polars[all]) (9.0.0)\n",
      "Requirement already satisfied: numpy>=1.16.0 in /Users/toddiverson/.pyenv/versions/anaconda3-2022.05/lib/python3.9/site-packages (from polars[all]) (1.21.5)\n",
      "Collecting xlsx2csv>=0.8.0\n",
      "  Downloading xlsx2csv-0.8.0-py3-none-any.whl (13 kB)\n",
      "Requirement already satisfied: matplotlib in /Users/toddiverson/.pyenv/versions/anaconda3-2022.05/lib/python3.9/site-packages (from polars[all]) (3.5.1)\n",
      "Requirement already satisfied: pandas in /Users/toddiverson/.pyenv/versions/anaconda3-2022.05/lib/python3.9/site-packages (from polars[all]) (1.4.2)\n",
      "Collecting connectorx\n",
      "  Downloading connectorx-0.3.1-cp39-cp39-macosx_11_0_arm64.whl (42.0 MB)\n",
      "\u001b[K     |████████████████████████████████| 42.0 MB 4.6 MB/s eta 0:00:01    |██                              | 2.7 MB 295 kB/s eta 0:02:14     |█████                           | 6.5 MB 192 kB/s eta 0:03:05     |██████▍                         | 8.4 MB 192 kB/s eta 0:02:55     |███████                         | 9.2 MB 4.3 MB/s eta 0:00:08     |████████▎                       | 10.9 MB 4.3 MB/s eta 0:00:08     |█████████▏                      | 12.0 MB 4.3 MB/s eta 0:00:07     |████████████▎                   | 16.2 MB 5.0 MB/s eta 0:00:06     |███████████████████████▍        | 30.8 MB 4.9 MB/s eta 0:00:03     |███████████████████████████▌    | 36.2 MB 5.9 MB/s eta 0:00:02     |███████████████████████████████▍| 41.2 MB 4.6 MB/s eta 0:00:01\n",
      "\u001b[?25hRequirement already satisfied: fsspec in /Users/toddiverson/.pyenv/versions/anaconda3-2022.05/lib/python3.9/site-packages (from polars[all]) (2022.3.0)\n",
      "Requirement already satisfied: pyparsing>=2.2.1 in /Users/toddiverson/.pyenv/versions/anaconda3-2022.05/lib/python3.9/site-packages (from matplotlib->polars[all]) (3.0.4)\n",
      "Requirement already satisfied: pillow>=6.2.0 in /Users/toddiverson/.pyenv/versions/anaconda3-2022.05/lib/python3.9/site-packages (from matplotlib->polars[all]) (9.0.1)\n",
      "Requirement already satisfied: python-dateutil>=2.7 in /Users/toddiverson/.pyenv/versions/anaconda3-2022.05/lib/python3.9/site-packages (from matplotlib->polars[all]) (2.8.2)\n",
      "Requirement already satisfied: fonttools>=4.22.0 in /Users/toddiverson/.pyenv/versions/anaconda3-2022.05/lib/python3.9/site-packages (from matplotlib->polars[all]) (4.25.0)\n",
      "Requirement already satisfied: kiwisolver>=1.0.1 in /Users/toddiverson/.pyenv/versions/anaconda3-2022.05/lib/python3.9/site-packages (from matplotlib->polars[all]) (1.4.2)\n",
      "Requirement already satisfied: packaging>=20.0 in /Users/toddiverson/.pyenv/versions/anaconda3-2022.05/lib/python3.9/site-packages (from matplotlib->polars[all]) (21.3)\n",
      "Requirement already satisfied: cycler>=0.10 in /Users/toddiverson/.pyenv/versions/anaconda3-2022.05/lib/python3.9/site-packages (from matplotlib->polars[all]) (0.11.0)\n",
      "Requirement already satisfied: six>=1.5 in /Users/toddiverson/.pyenv/versions/anaconda3-2022.05/lib/python3.9/site-packages (from python-dateutil>=2.7->matplotlib->polars[all]) (1.16.0)\n",
      "Requirement already satisfied: pytz>=2020.1 in /Users/toddiverson/.pyenv/versions/anaconda3-2022.05/lib/python3.9/site-packages (from pandas->polars[all]) (2021.3)\n",
      "Installing collected packages: xlsx2csv, polars, connectorx\n",
      "Successfully installed connectorx-0.3.1 polars-0.14.26 xlsx2csv-0.8.0\n"
     ]
    }
   ],
   "source": [
    "!pip install \"polars[all]\""
   ]
  },
  {
   "cell_type": "markdown",
   "metadata": {
    "slideshow": {
     "slide_type": "slide"
    }
   },
   "source": [
    "# Introduction to Polars"
   ]
  },
  {
   "cell_type": "markdown",
   "metadata": {
    "slideshow": {
     "slide_type": "slide"
    }
   },
   "source": [
    "## Polars provides Python next-generation data frames\n",
    "\n",
    "* **Expressive.** Queries are familiar, readable, and combosable.\n",
    "* **Parallel.** Can use all cores/threads\n",
    "* **Fast.** [Fastest] in-memory data frames\n",
    "* **Lazy.** Allows lazy evaluation for\n",
    "    * Efficient memory usage\n",
    "    * Query optimization\n",
    "    * Filter pushdown\n",
    "* **Eager.** Allows eager evaluation for convenience on small data sets."
   ]
  },
  {
   "cell_type": "code",
   "execution_count": 3,
   "metadata": {
    "slideshow": {
     "slide_type": "fragment"
    }
   },
   "outputs": [],
   "source": [
    "import polars as pl"
   ]
  },
  {
   "cell_type": "markdown",
   "metadata": {
    "slideshow": {
     "slide_type": "slide"
    }
   },
   "source": [
    "## Our first dataframe"
   ]
  },
  {
   "cell_type": "code",
   "execution_count": 4,
   "metadata": {
    "scrolled": true,
    "slideshow": {
     "slide_type": "fragment"
    }
   },
   "outputs": [
    {
     "data": {
      "text/html": [
       "<div>\n",
       "<style scoped>\n",
       "    .dataframe tbody tr th:only-of-type {\n",
       "        vertical-align: middle;\n",
       "    }\n",
       "\n",
       "    .dataframe tbody tr th {\n",
       "        vertical-align: top;\n",
       "    }\n",
       "\n",
       "    .dataframe thead th {\n",
       "        text-align: right;\n",
       "    }\n",
       "\n",
       "    .dataframe td {\n",
       "        white-space: pre;\n",
       "    }\n",
       "\n",
       "    .dataframe td {\n",
       "        padding-top: 0;\n",
       "    }\n",
       "\n",
       "    .dataframe td {\n",
       "        padding-bottom: 0;\n",
       "    }\n",
       "\n",
       "    .dataframe td {\n",
       "        line-height: 95%;\n",
       "    }\n",
       "</style>\n",
       "<table border=\"1\" class=\"dataframe\" >\n",
       "<small>shape: (3, 4)</small>\n",
       "<thead>\n",
       "<tr>\n",
       "<th>\n",
       "Names\n",
       "</th>\n",
       "<th>\n",
       "Python_mastery\n",
       "</th>\n",
       "<th>\n",
       "Love_of_R\n",
       "</th>\n",
       "<th>\n",
       "years_at_wsu\n",
       "</th>\n",
       "</tr>\n",
       "<tr>\n",
       "<td>\n",
       "str\n",
       "</td>\n",
       "<td>\n",
       "f64\n",
       "</td>\n",
       "<td>\n",
       "i64\n",
       "</td>\n",
       "<td>\n",
       "i64\n",
       "</td>\n",
       "</tr>\n",
       "</thead>\n",
       "<tbody>\n",
       "<tr>\n",
       "<td>\n",
       "&quot;Iverson&quot;\n",
       "</td>\n",
       "<td>\n",
       "10.0\n",
       "</td>\n",
       "<td>\n",
       "2\n",
       "</td>\n",
       "<td>\n",
       "4\n",
       "</td>\n",
       "</tr>\n",
       "<tr>\n",
       "<td>\n",
       "&quot;Malone&quot;\n",
       "</td>\n",
       "<td>\n",
       "5.0\n",
       "</td>\n",
       "<td>\n",
       "5\n",
       "</td>\n",
       "<td>\n",
       "17\n",
       "</td>\n",
       "</tr>\n",
       "<tr>\n",
       "<td>\n",
       "&quot;Bergen&quot;\n",
       "</td>\n",
       "<td>\n",
       "1.0\n",
       "</td>\n",
       "<td>\n",
       "11\n",
       "</td>\n",
       "<td>\n",
       "5\n",
       "</td>\n",
       "</tr>\n",
       "</tbody>\n",
       "</table>\n",
       "</div>"
      ],
      "text/plain": [
       "shape: (3, 4)\n",
       "┌─────────┬────────────────┬───────────┬──────────────┐\n",
       "│ Names   ┆ Python_mastery ┆ Love_of_R ┆ years_at_wsu │\n",
       "│ ---     ┆ ---            ┆ ---       ┆ ---          │\n",
       "│ str     ┆ f64            ┆ i64       ┆ i64          │\n",
       "╞═════════╪════════════════╪═══════════╪══════════════╡\n",
       "│ Iverson ┆ 10.0           ┆ 2         ┆ 4            │\n",
       "├╌╌╌╌╌╌╌╌╌┼╌╌╌╌╌╌╌╌╌╌╌╌╌╌╌╌┼╌╌╌╌╌╌╌╌╌╌╌┼╌╌╌╌╌╌╌╌╌╌╌╌╌╌┤\n",
       "│ Malone  ┆ 5.0            ┆ 5         ┆ 17           │\n",
       "├╌╌╌╌╌╌╌╌╌┼╌╌╌╌╌╌╌╌╌╌╌╌╌╌╌╌┼╌╌╌╌╌╌╌╌╌╌╌┼╌╌╌╌╌╌╌╌╌╌╌╌╌╌┤\n",
       "│ Bergen  ┆ 1.0            ┆ 11        ┆ 5            │\n",
       "└─────────┴────────────────┴───────────┴──────────────┘"
      ]
     },
     "execution_count": 4,
     "metadata": {},
     "output_type": "execute_result"
    }
   ],
   "source": [
    "df = pl.DataFrame({\"Names\": [\"Iverson\", \"Malone\", \"Bergen\"],\n",
    "                   \"Python_mastery\": [10, 5, 1.0],\n",
    "                   \"Love_of_R\": [2, 5, 11],\n",
    "                   \"years_at_wsu\": [4, 17, 5]})\n",
    "df.head()"
   ]
  },
  {
   "cell_type": "markdown",
   "metadata": {
    "slideshow": {
     "slide_type": "slide"
    }
   },
   "source": [
    "## Reading from a csv\n",
    "\n",
    "* Most data sets will be read in from a csv or JSON data file\n",
    "* `Pandas` provides `read_csv` and `read_json`"
   ]
  },
  {
   "cell_type": "markdown",
   "metadata": {
    "slideshow": {
     "slide_type": "slide"
    }
   },
   "source": [
    "### Open a local file w/ relative path"
   ]
  },
  {
   "cell_type": "code",
   "execution_count": 5,
   "metadata": {},
   "outputs": [
    {
     "data": {
      "text/html": [
       "<div>\n",
       "<style scoped>\n",
       "    .dataframe tbody tr th:only-of-type {\n",
       "        vertical-align: middle;\n",
       "    }\n",
       "\n",
       "    .dataframe tbody tr th {\n",
       "        vertical-align: top;\n",
       "    }\n",
       "\n",
       "    .dataframe thead th {\n",
       "        text-align: right;\n",
       "    }\n",
       "\n",
       "    .dataframe td {\n",
       "        white-space: pre;\n",
       "    }\n",
       "\n",
       "    .dataframe td {\n",
       "        padding-top: 0;\n",
       "    }\n",
       "\n",
       "    .dataframe td {\n",
       "        padding-bottom: 0;\n",
       "    }\n",
       "\n",
       "    .dataframe td {\n",
       "        line-height: 95%;\n",
       "    }\n",
       "</style>\n",
       "<table border=\"1\" class=\"dataframe\" >\n",
       "<small>shape: (5, 9)</small>\n",
       "<thead>\n",
       "<tr>\n",
       "<th>\n",
       "ConstituentID\n",
       "</th>\n",
       "<th>\n",
       "DisplayName\n",
       "</th>\n",
       "<th>\n",
       "ArtistBio\n",
       "</th>\n",
       "<th>\n",
       "Nationality\n",
       "</th>\n",
       "<th>\n",
       "Gender\n",
       "</th>\n",
       "<th>\n",
       "BeginDate\n",
       "</th>\n",
       "<th>\n",
       "EndDate\n",
       "</th>\n",
       "<th>\n",
       "Wiki QID\n",
       "</th>\n",
       "<th>\n",
       "ULAN\n",
       "</th>\n",
       "</tr>\n",
       "<tr>\n",
       "<td>\n",
       "i64\n",
       "</td>\n",
       "<td>\n",
       "str\n",
       "</td>\n",
       "<td>\n",
       "str\n",
       "</td>\n",
       "<td>\n",
       "str\n",
       "</td>\n",
       "<td>\n",
       "str\n",
       "</td>\n",
       "<td>\n",
       "i64\n",
       "</td>\n",
       "<td>\n",
       "i64\n",
       "</td>\n",
       "<td>\n",
       "str\n",
       "</td>\n",
       "<td>\n",
       "i64\n",
       "</td>\n",
       "</tr>\n",
       "</thead>\n",
       "<tbody>\n",
       "<tr>\n",
       "<td>\n",
       "1\n",
       "</td>\n",
       "<td>\n",
       "&quot;Robert Arneson...\n",
       "</td>\n",
       "<td>\n",
       "&quot;American, 1930...\n",
       "</td>\n",
       "<td>\n",
       "&quot;American&quot;\n",
       "</td>\n",
       "<td>\n",
       "&quot;Male&quot;\n",
       "</td>\n",
       "<td>\n",
       "1930\n",
       "</td>\n",
       "<td>\n",
       "1992\n",
       "</td>\n",
       "<td>\n",
       "null\n",
       "</td>\n",
       "<td>\n",
       "null\n",
       "</td>\n",
       "</tr>\n",
       "<tr>\n",
       "<td>\n",
       "2\n",
       "</td>\n",
       "<td>\n",
       "&quot;Doroteo Arnaiz...\n",
       "</td>\n",
       "<td>\n",
       "&quot;Spanish, born ...\n",
       "</td>\n",
       "<td>\n",
       "&quot;Spanish&quot;\n",
       "</td>\n",
       "<td>\n",
       "&quot;Male&quot;\n",
       "</td>\n",
       "<td>\n",
       "1936\n",
       "</td>\n",
       "<td>\n",
       "0\n",
       "</td>\n",
       "<td>\n",
       "null\n",
       "</td>\n",
       "<td>\n",
       "null\n",
       "</td>\n",
       "</tr>\n",
       "<tr>\n",
       "<td>\n",
       "3\n",
       "</td>\n",
       "<td>\n",
       "&quot;Bill Arnold&quot;\n",
       "</td>\n",
       "<td>\n",
       "&quot;American, born...\n",
       "</td>\n",
       "<td>\n",
       "&quot;American&quot;\n",
       "</td>\n",
       "<td>\n",
       "&quot;Male&quot;\n",
       "</td>\n",
       "<td>\n",
       "1941\n",
       "</td>\n",
       "<td>\n",
       "0\n",
       "</td>\n",
       "<td>\n",
       "null\n",
       "</td>\n",
       "<td>\n",
       "null\n",
       "</td>\n",
       "</tr>\n",
       "<tr>\n",
       "<td>\n",
       "4\n",
       "</td>\n",
       "<td>\n",
       "&quot;Charles Arnold...\n",
       "</td>\n",
       "<td>\n",
       "&quot;American, born...\n",
       "</td>\n",
       "<td>\n",
       "&quot;American&quot;\n",
       "</td>\n",
       "<td>\n",
       "&quot;Male&quot;\n",
       "</td>\n",
       "<td>\n",
       "1946\n",
       "</td>\n",
       "<td>\n",
       "0\n",
       "</td>\n",
       "<td>\n",
       "&quot;Q1063584&quot;\n",
       "</td>\n",
       "<td>\n",
       "500027998\n",
       "</td>\n",
       "</tr>\n",
       "<tr>\n",
       "<td>\n",
       "5\n",
       "</td>\n",
       "<td>\n",
       "&quot;Per Arnoldi&quot;\n",
       "</td>\n",
       "<td>\n",
       "&quot;Danish, born 1...\n",
       "</td>\n",
       "<td>\n",
       "&quot;Danish&quot;\n",
       "</td>\n",
       "<td>\n",
       "&quot;Male&quot;\n",
       "</td>\n",
       "<td>\n",
       "1941\n",
       "</td>\n",
       "<td>\n",
       "0\n",
       "</td>\n",
       "<td>\n",
       "null\n",
       "</td>\n",
       "<td>\n",
       "null\n",
       "</td>\n",
       "</tr>\n",
       "</tbody>\n",
       "</table>\n",
       "</div>"
      ],
      "text/plain": [
       "shape: (5, 9)\n",
       "┌────────────┬───────────┬─────────┬───────────┬─────┬───────────┬─────────┬──────────┬───────────┐\n",
       "│ Constituen ┆ DisplayNa ┆ ArtistB ┆ Nationali ┆ ... ┆ BeginDate ┆ EndDate ┆ Wiki QID ┆ ULAN      │\n",
       "│ tID        ┆ me        ┆ io      ┆ ty        ┆     ┆ ---       ┆ ---     ┆ ---      ┆ ---       │\n",
       "│ ---        ┆ ---       ┆ ---     ┆ ---       ┆     ┆ i64       ┆ i64     ┆ str      ┆ i64       │\n",
       "│ i64        ┆ str       ┆ str     ┆ str       ┆     ┆           ┆         ┆          ┆           │\n",
       "╞════════════╪═══════════╪═════════╪═══════════╪═════╪═══════════╪═════════╪══════════╪═══════════╡\n",
       "│ 1          ┆ Robert    ┆ America ┆ American  ┆ ... ┆ 1930      ┆ 1992    ┆ null     ┆ null      │\n",
       "│            ┆ Arneson   ┆ n, 1930 ┆           ┆     ┆           ┆         ┆          ┆           │\n",
       "│            ┆           ┆ –1992   ┆           ┆     ┆           ┆         ┆          ┆           │\n",
       "├╌╌╌╌╌╌╌╌╌╌╌╌┼╌╌╌╌╌╌╌╌╌╌╌┼╌╌╌╌╌╌╌╌╌┼╌╌╌╌╌╌╌╌╌╌╌┼╌╌╌╌╌┼╌╌╌╌╌╌╌╌╌╌╌┼╌╌╌╌╌╌╌╌╌┼╌╌╌╌╌╌╌╌╌╌┼╌╌╌╌╌╌╌╌╌╌╌┤\n",
       "│ 2          ┆ Doroteo   ┆ Spanish ┆ Spanish   ┆ ... ┆ 1936      ┆ 0       ┆ null     ┆ null      │\n",
       "│            ┆ Arnaiz    ┆ , born  ┆           ┆     ┆           ┆         ┆          ┆           │\n",
       "│            ┆           ┆ 1936    ┆           ┆     ┆           ┆         ┆          ┆           │\n",
       "├╌╌╌╌╌╌╌╌╌╌╌╌┼╌╌╌╌╌╌╌╌╌╌╌┼╌╌╌╌╌╌╌╌╌┼╌╌╌╌╌╌╌╌╌╌╌┼╌╌╌╌╌┼╌╌╌╌╌╌╌╌╌╌╌┼╌╌╌╌╌╌╌╌╌┼╌╌╌╌╌╌╌╌╌╌┼╌╌╌╌╌╌╌╌╌╌╌┤\n",
       "│ 3          ┆ Bill      ┆ America ┆ American  ┆ ... ┆ 1941      ┆ 0       ┆ null     ┆ null      │\n",
       "│            ┆ Arnold    ┆ n, born ┆           ┆     ┆           ┆         ┆          ┆           │\n",
       "│            ┆           ┆ 1941    ┆           ┆     ┆           ┆         ┆          ┆           │\n",
       "├╌╌╌╌╌╌╌╌╌╌╌╌┼╌╌╌╌╌╌╌╌╌╌╌┼╌╌╌╌╌╌╌╌╌┼╌╌╌╌╌╌╌╌╌╌╌┼╌╌╌╌╌┼╌╌╌╌╌╌╌╌╌╌╌┼╌╌╌╌╌╌╌╌╌┼╌╌╌╌╌╌╌╌╌╌┼╌╌╌╌╌╌╌╌╌╌╌┤\n",
       "│ 4          ┆ Charles   ┆ America ┆ American  ┆ ... ┆ 1946      ┆ 0       ┆ Q1063584 ┆ 500027998 │\n",
       "│            ┆ Arnoldi   ┆ n, born ┆           ┆     ┆           ┆         ┆          ┆           │\n",
       "│            ┆           ┆ 1946    ┆           ┆     ┆           ┆         ┆          ┆           │\n",
       "├╌╌╌╌╌╌╌╌╌╌╌╌┼╌╌╌╌╌╌╌╌╌╌╌┼╌╌╌╌╌╌╌╌╌┼╌╌╌╌╌╌╌╌╌╌╌┼╌╌╌╌╌┼╌╌╌╌╌╌╌╌╌╌╌┼╌╌╌╌╌╌╌╌╌┼╌╌╌╌╌╌╌╌╌╌┼╌╌╌╌╌╌╌╌╌╌╌┤\n",
       "│ 5          ┆ Per       ┆ Danish, ┆ Danish    ┆ ... ┆ 1941      ┆ 0       ┆ null     ┆ null      │\n",
       "│            ┆ Arnoldi   ┆ born    ┆           ┆     ┆           ┆         ┆          ┆           │\n",
       "│            ┆           ┆ 1941    ┆           ┆     ┆           ┆         ┆          ┆           │\n",
       "└────────────┴───────────┴─────────┴───────────┴─────┴───────────┴─────────┴──────────┴───────────┘"
      ]
     },
     "execution_count": 5,
     "metadata": {},
     "output_type": "execute_result"
    }
   ],
   "source": [
    "# Won't work in colab\n",
    "artists = pl.read_csv('./data/Artists.csv')\n",
    "artists.head()"
   ]
  },
  {
   "cell_type": "markdown",
   "metadata": {
    "slideshow": {
     "slide_type": "slide"
    }
   },
   "source": [
    "### Open a web address"
   ]
  },
  {
   "cell_type": "code",
   "execution_count": 6,
   "metadata": {
    "slideshow": {
     "slide_type": "fragment"
    }
   },
   "outputs": [
    {
     "data": {
      "text/html": [
       "<div>\n",
       "<style scoped>\n",
       "    .dataframe tbody tr th:only-of-type {\n",
       "        vertical-align: middle;\n",
       "    }\n",
       "\n",
       "    .dataframe tbody tr th {\n",
       "        vertical-align: top;\n",
       "    }\n",
       "\n",
       "    .dataframe thead th {\n",
       "        text-align: right;\n",
       "    }\n",
       "\n",
       "    .dataframe td {\n",
       "        white-space: pre;\n",
       "    }\n",
       "\n",
       "    .dataframe td {\n",
       "        padding-top: 0;\n",
       "    }\n",
       "\n",
       "    .dataframe td {\n",
       "        padding-bottom: 0;\n",
       "    }\n",
       "\n",
       "    .dataframe td {\n",
       "        line-height: 95%;\n",
       "    }\n",
       "</style>\n",
       "<table border=\"1\" class=\"dataframe\" >\n",
       "<small>shape: (5, 9)</small>\n",
       "<thead>\n",
       "<tr>\n",
       "<th>\n",
       "ConstituentID\n",
       "</th>\n",
       "<th>\n",
       "DisplayName\n",
       "</th>\n",
       "<th>\n",
       "ArtistBio\n",
       "</th>\n",
       "<th>\n",
       "Nationality\n",
       "</th>\n",
       "<th>\n",
       "Gender\n",
       "</th>\n",
       "<th>\n",
       "BeginDate\n",
       "</th>\n",
       "<th>\n",
       "EndDate\n",
       "</th>\n",
       "<th>\n",
       "Wiki QID\n",
       "</th>\n",
       "<th>\n",
       "ULAN\n",
       "</th>\n",
       "</tr>\n",
       "<tr>\n",
       "<td>\n",
       "i64\n",
       "</td>\n",
       "<td>\n",
       "str\n",
       "</td>\n",
       "<td>\n",
       "str\n",
       "</td>\n",
       "<td>\n",
       "str\n",
       "</td>\n",
       "<td>\n",
       "str\n",
       "</td>\n",
       "<td>\n",
       "i64\n",
       "</td>\n",
       "<td>\n",
       "i64\n",
       "</td>\n",
       "<td>\n",
       "str\n",
       "</td>\n",
       "<td>\n",
       "i64\n",
       "</td>\n",
       "</tr>\n",
       "</thead>\n",
       "<tbody>\n",
       "<tr>\n",
       "<td>\n",
       "1\n",
       "</td>\n",
       "<td>\n",
       "&quot;Robert Arneson...\n",
       "</td>\n",
       "<td>\n",
       "&quot;American, 1930...\n",
       "</td>\n",
       "<td>\n",
       "&quot;American&quot;\n",
       "</td>\n",
       "<td>\n",
       "&quot;Male&quot;\n",
       "</td>\n",
       "<td>\n",
       "1930\n",
       "</td>\n",
       "<td>\n",
       "1992\n",
       "</td>\n",
       "<td>\n",
       "null\n",
       "</td>\n",
       "<td>\n",
       "null\n",
       "</td>\n",
       "</tr>\n",
       "<tr>\n",
       "<td>\n",
       "2\n",
       "</td>\n",
       "<td>\n",
       "&quot;Doroteo Arnaiz...\n",
       "</td>\n",
       "<td>\n",
       "&quot;Spanish, born ...\n",
       "</td>\n",
       "<td>\n",
       "&quot;Spanish&quot;\n",
       "</td>\n",
       "<td>\n",
       "&quot;Male&quot;\n",
       "</td>\n",
       "<td>\n",
       "1936\n",
       "</td>\n",
       "<td>\n",
       "0\n",
       "</td>\n",
       "<td>\n",
       "null\n",
       "</td>\n",
       "<td>\n",
       "null\n",
       "</td>\n",
       "</tr>\n",
       "<tr>\n",
       "<td>\n",
       "3\n",
       "</td>\n",
       "<td>\n",
       "&quot;Bill Arnold&quot;\n",
       "</td>\n",
       "<td>\n",
       "&quot;American, born...\n",
       "</td>\n",
       "<td>\n",
       "&quot;American&quot;\n",
       "</td>\n",
       "<td>\n",
       "&quot;Male&quot;\n",
       "</td>\n",
       "<td>\n",
       "1941\n",
       "</td>\n",
       "<td>\n",
       "0\n",
       "</td>\n",
       "<td>\n",
       "null\n",
       "</td>\n",
       "<td>\n",
       "null\n",
       "</td>\n",
       "</tr>\n",
       "<tr>\n",
       "<td>\n",
       "4\n",
       "</td>\n",
       "<td>\n",
       "&quot;Charles Arnold...\n",
       "</td>\n",
       "<td>\n",
       "&quot;American, born...\n",
       "</td>\n",
       "<td>\n",
       "&quot;American&quot;\n",
       "</td>\n",
       "<td>\n",
       "&quot;Male&quot;\n",
       "</td>\n",
       "<td>\n",
       "1946\n",
       "</td>\n",
       "<td>\n",
       "0\n",
       "</td>\n",
       "<td>\n",
       "&quot;Q1063584&quot;\n",
       "</td>\n",
       "<td>\n",
       "500027998\n",
       "</td>\n",
       "</tr>\n",
       "<tr>\n",
       "<td>\n",
       "5\n",
       "</td>\n",
       "<td>\n",
       "&quot;Per Arnoldi&quot;\n",
       "</td>\n",
       "<td>\n",
       "&quot;Danish, born 1...\n",
       "</td>\n",
       "<td>\n",
       "&quot;Danish&quot;\n",
       "</td>\n",
       "<td>\n",
       "&quot;Male&quot;\n",
       "</td>\n",
       "<td>\n",
       "1941\n",
       "</td>\n",
       "<td>\n",
       "0\n",
       "</td>\n",
       "<td>\n",
       "null\n",
       "</td>\n",
       "<td>\n",
       "null\n",
       "</td>\n",
       "</tr>\n",
       "</tbody>\n",
       "</table>\n",
       "</div>"
      ],
      "text/plain": [
       "shape: (5, 9)\n",
       "┌────────────┬───────────┬─────────┬───────────┬─────┬───────────┬─────────┬──────────┬───────────┐\n",
       "│ Constituen ┆ DisplayNa ┆ ArtistB ┆ Nationali ┆ ... ┆ BeginDate ┆ EndDate ┆ Wiki QID ┆ ULAN      │\n",
       "│ tID        ┆ me        ┆ io      ┆ ty        ┆     ┆ ---       ┆ ---     ┆ ---      ┆ ---       │\n",
       "│ ---        ┆ ---       ┆ ---     ┆ ---       ┆     ┆ i64       ┆ i64     ┆ str      ┆ i64       │\n",
       "│ i64        ┆ str       ┆ str     ┆ str       ┆     ┆           ┆         ┆          ┆           │\n",
       "╞════════════╪═══════════╪═════════╪═══════════╪═════╪═══════════╪═════════╪══════════╪═══════════╡\n",
       "│ 1          ┆ Robert    ┆ America ┆ American  ┆ ... ┆ 1930      ┆ 1992    ┆ null     ┆ null      │\n",
       "│            ┆ Arneson   ┆ n, 1930 ┆           ┆     ┆           ┆         ┆          ┆           │\n",
       "│            ┆           ┆ –1992   ┆           ┆     ┆           ┆         ┆          ┆           │\n",
       "├╌╌╌╌╌╌╌╌╌╌╌╌┼╌╌╌╌╌╌╌╌╌╌╌┼╌╌╌╌╌╌╌╌╌┼╌╌╌╌╌╌╌╌╌╌╌┼╌╌╌╌╌┼╌╌╌╌╌╌╌╌╌╌╌┼╌╌╌╌╌╌╌╌╌┼╌╌╌╌╌╌╌╌╌╌┼╌╌╌╌╌╌╌╌╌╌╌┤\n",
       "│ 2          ┆ Doroteo   ┆ Spanish ┆ Spanish   ┆ ... ┆ 1936      ┆ 0       ┆ null     ┆ null      │\n",
       "│            ┆ Arnaiz    ┆ , born  ┆           ┆     ┆           ┆         ┆          ┆           │\n",
       "│            ┆           ┆ 1936    ┆           ┆     ┆           ┆         ┆          ┆           │\n",
       "├╌╌╌╌╌╌╌╌╌╌╌╌┼╌╌╌╌╌╌╌╌╌╌╌┼╌╌╌╌╌╌╌╌╌┼╌╌╌╌╌╌╌╌╌╌╌┼╌╌╌╌╌┼╌╌╌╌╌╌╌╌╌╌╌┼╌╌╌╌╌╌╌╌╌┼╌╌╌╌╌╌╌╌╌╌┼╌╌╌╌╌╌╌╌╌╌╌┤\n",
       "│ 3          ┆ Bill      ┆ America ┆ American  ┆ ... ┆ 1941      ┆ 0       ┆ null     ┆ null      │\n",
       "│            ┆ Arnold    ┆ n, born ┆           ┆     ┆           ┆         ┆          ┆           │\n",
       "│            ┆           ┆ 1941    ┆           ┆     ┆           ┆         ┆          ┆           │\n",
       "├╌╌╌╌╌╌╌╌╌╌╌╌┼╌╌╌╌╌╌╌╌╌╌╌┼╌╌╌╌╌╌╌╌╌┼╌╌╌╌╌╌╌╌╌╌╌┼╌╌╌╌╌┼╌╌╌╌╌╌╌╌╌╌╌┼╌╌╌╌╌╌╌╌╌┼╌╌╌╌╌╌╌╌╌╌┼╌╌╌╌╌╌╌╌╌╌╌┤\n",
       "│ 4          ┆ Charles   ┆ America ┆ American  ┆ ... ┆ 1946      ┆ 0       ┆ Q1063584 ┆ 500027998 │\n",
       "│            ┆ Arnoldi   ┆ n, born ┆           ┆     ┆           ┆         ┆          ┆           │\n",
       "│            ┆           ┆ 1946    ┆           ┆     ┆           ┆         ┆          ┆           │\n",
       "├╌╌╌╌╌╌╌╌╌╌╌╌┼╌╌╌╌╌╌╌╌╌╌╌┼╌╌╌╌╌╌╌╌╌┼╌╌╌╌╌╌╌╌╌╌╌┼╌╌╌╌╌┼╌╌╌╌╌╌╌╌╌╌╌┼╌╌╌╌╌╌╌╌╌┼╌╌╌╌╌╌╌╌╌╌┼╌╌╌╌╌╌╌╌╌╌╌┤\n",
       "│ 5          ┆ Per       ┆ Danish, ┆ Danish    ┆ ... ┆ 1941      ┆ 0       ┆ null     ┆ null      │\n",
       "│            ┆ Arnoldi   ┆ born    ┆           ┆     ┆           ┆         ┆          ┆           │\n",
       "│            ┆           ┆ 1941    ┆           ┆     ┆           ┆         ┆          ┆           │\n",
       "└────────────┴───────────┴─────────┴───────────┴─────┴───────────┴─────────┴──────────┴───────────┘"
      ]
     },
     "execution_count": 6,
     "metadata": {},
     "output_type": "execute_result"
    }
   ],
   "source": [
    "url = \"https://github.com/MuseumofModernArt/collection/raw/master/Artists.csv\"\n",
    "artists =  pl.read_csv(url)\n",
    "artists.head()"
   ]
  },
  {
   "cell_type": "markdown",
   "metadata": {
    "slideshow": {
     "slide_type": "slide"
    }
   },
   "source": [
    "# JSON data file\n",
    "\n",
    "* Another (more modern) storage\n",
    "* Here the data is stored in row `dict`"
   ]
  },
  {
   "cell_type": "markdown",
   "metadata": {
    "slideshow": {
     "slide_type": "slide"
    }
   },
   "source": [
    "```{json}\n",
    "[\n",
    "{\n",
    "  \"ConstituentID\": 1,\n",
    "  \"DisplayName\": \"Robert Arneson\",\n",
    "  \"ArtistBio\": \"American, 1930–1992\",\n",
    "  \"Nationality\": \"American\",\n",
    "  \"Gender\": \"Male\",\n",
    "  \"BeginDate\": 1930,\n",
    "  \"EndDate\": 1992,\n",
    "  \"Wiki QID\": null,\n",
    "  \"ULAN\": null\n",
    "},\n",
    "{\n",
    "  \"ConstituentID\": 2,\n",
    "  \"DisplayName\": \"Doroteo Arnaiz\",\n",
    "  \"ArtistBio\": \"Spanish, born 1936\",\n",
    "  \"Nationality\": \"Spanish\",\n",
    "  \"Gender\": \"Male\",\n",
    "  \"BeginDate\": 1936,\n",
    "  \"EndDate\": 0,\n",
    "  \"Wiki QID\": null,\n",
    "  \"ULAN\": null\n",
    "},\n",
    "...\n",
    "```"
   ]
  },
  {
   "cell_type": "markdown",
   "metadata": {},
   "source": [
    "## `polars` can read `json` data"
   ]
  },
  {
   "cell_type": "code",
   "execution_count": 7,
   "metadata": {
    "slideshow": {
     "slide_type": "fragment"
    }
   },
   "outputs": [
    {
     "data": {
      "text/html": [
       "<div>\n",
       "<style scoped>\n",
       "    .dataframe tbody tr th:only-of-type {\n",
       "        vertical-align: middle;\n",
       "    }\n",
       "\n",
       "    .dataframe tbody tr th {\n",
       "        vertical-align: top;\n",
       "    }\n",
       "\n",
       "    .dataframe thead th {\n",
       "        text-align: right;\n",
       "    }\n",
       "\n",
       "    .dataframe td {\n",
       "        white-space: pre;\n",
       "    }\n",
       "\n",
       "    .dataframe td {\n",
       "        padding-top: 0;\n",
       "    }\n",
       "\n",
       "    .dataframe td {\n",
       "        padding-bottom: 0;\n",
       "    }\n",
       "\n",
       "    .dataframe td {\n",
       "        line-height: 95%;\n",
       "    }\n",
       "</style>\n",
       "<table border=\"1\" class=\"dataframe\" >\n",
       "<small>shape: (5, 9)</small>\n",
       "<thead>\n",
       "<tr>\n",
       "<th>\n",
       "ConstituentID\n",
       "</th>\n",
       "<th>\n",
       "DisplayName\n",
       "</th>\n",
       "<th>\n",
       "ArtistBio\n",
       "</th>\n",
       "<th>\n",
       "Nationality\n",
       "</th>\n",
       "<th>\n",
       "Gender\n",
       "</th>\n",
       "<th>\n",
       "BeginDate\n",
       "</th>\n",
       "<th>\n",
       "EndDate\n",
       "</th>\n",
       "<th>\n",
       "Wiki QID\n",
       "</th>\n",
       "<th>\n",
       "ULAN\n",
       "</th>\n",
       "</tr>\n",
       "<tr>\n",
       "<td>\n",
       "i64\n",
       "</td>\n",
       "<td>\n",
       "str\n",
       "</td>\n",
       "<td>\n",
       "str\n",
       "</td>\n",
       "<td>\n",
       "str\n",
       "</td>\n",
       "<td>\n",
       "str\n",
       "</td>\n",
       "<td>\n",
       "i64\n",
       "</td>\n",
       "<td>\n",
       "i64\n",
       "</td>\n",
       "<td>\n",
       "str\n",
       "</td>\n",
       "<td>\n",
       "str\n",
       "</td>\n",
       "</tr>\n",
       "</thead>\n",
       "<tbody>\n",
       "<tr>\n",
       "<td>\n",
       "1\n",
       "</td>\n",
       "<td>\n",
       "&quot;Robert Arneson...\n",
       "</td>\n",
       "<td>\n",
       "&quot;American, 1930...\n",
       "</td>\n",
       "<td>\n",
       "&quot;American&quot;\n",
       "</td>\n",
       "<td>\n",
       "&quot;Male&quot;\n",
       "</td>\n",
       "<td>\n",
       "1930\n",
       "</td>\n",
       "<td>\n",
       "1992\n",
       "</td>\n",
       "<td>\n",
       "null\n",
       "</td>\n",
       "<td>\n",
       "null\n",
       "</td>\n",
       "</tr>\n",
       "<tr>\n",
       "<td>\n",
       "2\n",
       "</td>\n",
       "<td>\n",
       "&quot;Doroteo Arnaiz...\n",
       "</td>\n",
       "<td>\n",
       "&quot;Spanish, born ...\n",
       "</td>\n",
       "<td>\n",
       "&quot;Spanish&quot;\n",
       "</td>\n",
       "<td>\n",
       "&quot;Male&quot;\n",
       "</td>\n",
       "<td>\n",
       "1936\n",
       "</td>\n",
       "<td>\n",
       "0\n",
       "</td>\n",
       "<td>\n",
       "null\n",
       "</td>\n",
       "<td>\n",
       "null\n",
       "</td>\n",
       "</tr>\n",
       "<tr>\n",
       "<td>\n",
       "3\n",
       "</td>\n",
       "<td>\n",
       "&quot;Bill Arnold&quot;\n",
       "</td>\n",
       "<td>\n",
       "&quot;American, born...\n",
       "</td>\n",
       "<td>\n",
       "&quot;American&quot;\n",
       "</td>\n",
       "<td>\n",
       "&quot;Male&quot;\n",
       "</td>\n",
       "<td>\n",
       "1941\n",
       "</td>\n",
       "<td>\n",
       "0\n",
       "</td>\n",
       "<td>\n",
       "null\n",
       "</td>\n",
       "<td>\n",
       "null\n",
       "</td>\n",
       "</tr>\n",
       "<tr>\n",
       "<td>\n",
       "4\n",
       "</td>\n",
       "<td>\n",
       "&quot;Charles Arnold...\n",
       "</td>\n",
       "<td>\n",
       "&quot;American, born...\n",
       "</td>\n",
       "<td>\n",
       "&quot;American&quot;\n",
       "</td>\n",
       "<td>\n",
       "&quot;Male&quot;\n",
       "</td>\n",
       "<td>\n",
       "1946\n",
       "</td>\n",
       "<td>\n",
       "0\n",
       "</td>\n",
       "<td>\n",
       "&quot;Q1063584&quot;\n",
       "</td>\n",
       "<td>\n",
       "&quot;500027998&quot;\n",
       "</td>\n",
       "</tr>\n",
       "<tr>\n",
       "<td>\n",
       "5\n",
       "</td>\n",
       "<td>\n",
       "&quot;Per Arnoldi&quot;\n",
       "</td>\n",
       "<td>\n",
       "&quot;Danish, born 1...\n",
       "</td>\n",
       "<td>\n",
       "&quot;Danish&quot;\n",
       "</td>\n",
       "<td>\n",
       "&quot;Male&quot;\n",
       "</td>\n",
       "<td>\n",
       "1941\n",
       "</td>\n",
       "<td>\n",
       "0\n",
       "</td>\n",
       "<td>\n",
       "null\n",
       "</td>\n",
       "<td>\n",
       "null\n",
       "</td>\n",
       "</tr>\n",
       "</tbody>\n",
       "</table>\n",
       "</div>"
      ],
      "text/plain": [
       "shape: (5, 9)\n",
       "┌────────────┬───────────┬─────────┬───────────┬─────┬───────────┬─────────┬──────────┬───────────┐\n",
       "│ Constituen ┆ DisplayNa ┆ ArtistB ┆ Nationali ┆ ... ┆ BeginDate ┆ EndDate ┆ Wiki QID ┆ ULAN      │\n",
       "│ tID        ┆ me        ┆ io      ┆ ty        ┆     ┆ ---       ┆ ---     ┆ ---      ┆ ---       │\n",
       "│ ---        ┆ ---       ┆ ---     ┆ ---       ┆     ┆ i64       ┆ i64     ┆ str      ┆ str       │\n",
       "│ i64        ┆ str       ┆ str     ┆ str       ┆     ┆           ┆         ┆          ┆           │\n",
       "╞════════════╪═══════════╪═════════╪═══════════╪═════╪═══════════╪═════════╪══════════╪═══════════╡\n",
       "│ 1          ┆ Robert    ┆ America ┆ American  ┆ ... ┆ 1930      ┆ 1992    ┆ null     ┆ null      │\n",
       "│            ┆ Arneson   ┆ n, 1930 ┆           ┆     ┆           ┆         ┆          ┆           │\n",
       "│            ┆           ┆ –1992   ┆           ┆     ┆           ┆         ┆          ┆           │\n",
       "├╌╌╌╌╌╌╌╌╌╌╌╌┼╌╌╌╌╌╌╌╌╌╌╌┼╌╌╌╌╌╌╌╌╌┼╌╌╌╌╌╌╌╌╌╌╌┼╌╌╌╌╌┼╌╌╌╌╌╌╌╌╌╌╌┼╌╌╌╌╌╌╌╌╌┼╌╌╌╌╌╌╌╌╌╌┼╌╌╌╌╌╌╌╌╌╌╌┤\n",
       "│ 2          ┆ Doroteo   ┆ Spanish ┆ Spanish   ┆ ... ┆ 1936      ┆ 0       ┆ null     ┆ null      │\n",
       "│            ┆ Arnaiz    ┆ , born  ┆           ┆     ┆           ┆         ┆          ┆           │\n",
       "│            ┆           ┆ 1936    ┆           ┆     ┆           ┆         ┆          ┆           │\n",
       "├╌╌╌╌╌╌╌╌╌╌╌╌┼╌╌╌╌╌╌╌╌╌╌╌┼╌╌╌╌╌╌╌╌╌┼╌╌╌╌╌╌╌╌╌╌╌┼╌╌╌╌╌┼╌╌╌╌╌╌╌╌╌╌╌┼╌╌╌╌╌╌╌╌╌┼╌╌╌╌╌╌╌╌╌╌┼╌╌╌╌╌╌╌╌╌╌╌┤\n",
       "│ 3          ┆ Bill      ┆ America ┆ American  ┆ ... ┆ 1941      ┆ 0       ┆ null     ┆ null      │\n",
       "│            ┆ Arnold    ┆ n, born ┆           ┆     ┆           ┆         ┆          ┆           │\n",
       "│            ┆           ┆ 1941    ┆           ┆     ┆           ┆         ┆          ┆           │\n",
       "├╌╌╌╌╌╌╌╌╌╌╌╌┼╌╌╌╌╌╌╌╌╌╌╌┼╌╌╌╌╌╌╌╌╌┼╌╌╌╌╌╌╌╌╌╌╌┼╌╌╌╌╌┼╌╌╌╌╌╌╌╌╌╌╌┼╌╌╌╌╌╌╌╌╌┼╌╌╌╌╌╌╌╌╌╌┼╌╌╌╌╌╌╌╌╌╌╌┤\n",
       "│ 4          ┆ Charles   ┆ America ┆ American  ┆ ... ┆ 1946      ┆ 0       ┆ Q1063584 ┆ 500027998 │\n",
       "│            ┆ Arnoldi   ┆ n, born ┆           ┆     ┆           ┆         ┆          ┆           │\n",
       "│            ┆           ┆ 1946    ┆           ┆     ┆           ┆         ┆          ┆           │\n",
       "├╌╌╌╌╌╌╌╌╌╌╌╌┼╌╌╌╌╌╌╌╌╌╌╌┼╌╌╌╌╌╌╌╌╌┼╌╌╌╌╌╌╌╌╌╌╌┼╌╌╌╌╌┼╌╌╌╌╌╌╌╌╌╌╌┼╌╌╌╌╌╌╌╌╌┼╌╌╌╌╌╌╌╌╌╌┼╌╌╌╌╌╌╌╌╌╌╌┤\n",
       "│ 5          ┆ Per       ┆ Danish, ┆ Danish    ┆ ... ┆ 1941      ┆ 0       ┆ null     ┆ null      │\n",
       "│            ┆ Arnoldi   ┆ born    ┆           ┆     ┆           ┆         ┆          ┆           │\n",
       "│            ┆           ┆ 1941    ┆           ┆     ┆           ┆         ┆          ┆           │\n",
       "└────────────┴───────────┴─────────┴───────────┴─────┴───────────┴─────────┴──────────┴───────────┘"
      ]
     },
     "execution_count": 7,
     "metadata": {},
     "output_type": "execute_result"
    }
   ],
   "source": [
    "# Won't work in colab\n",
    "artists =  pl.read_json('./data/Artists.json')\n",
    "artists.head()"
   ]
  },
  {
   "cell_type": "markdown",
   "metadata": {
    "slideshow": {
     "slide_type": "slide"
    }
   },
   "source": [
    "## <font color=\"red\"> Exercise 2.1.2 </font>\n",
    "    \n",
    "Use tab-completion and `help` to discover and explore two more methods of reading a file into a `Pandas` dataframe.\n"
   ]
  },
  {
   "cell_type": "code",
   "execution_count": null,
   "metadata": {
    "slideshow": {
     "slide_type": "fragment"
    }
   },
   "outputs": [],
   "source": [
    "pl.read_ #<-- Tab here"
   ]
  },
  {
   "cell_type": "markdown",
   "metadata": {},
   "source": [
    "> Discuss what you found here"
   ]
  },
  {
   "cell_type": "markdown",
   "metadata": {},
   "source": [
    "> Looks like we can read csv, excel, json, parquet; as well as perform batch jobs."
   ]
  },
  {
   "cell_type": "markdown",
   "metadata": {
    "slideshow": {
     "slide_type": "slide"
    }
   },
   "source": [
    "## <font color=\"red\"> Exercise 2.1.2 </font>\n",
    "    \n",
    "Read in the `Artwork.csv` from [https://github.com/MuseumofModernArt/collection](https://github.com/MuseumofModernArt/collection) and display the head of the resulting dataframe.\n"
   ]
  },
  {
   "cell_type": "code",
   "execution_count": 10,
   "metadata": {
    "slideshow": {
     "slide_type": "fragment"
    }
   },
   "outputs": [],
   "source": [
    "# Your code ther"
   ]
  },
  {
   "cell_type": "markdown",
   "metadata": {
    "slideshow": {
     "slide_type": "slide"
    }
   },
   "source": [
    "## So what is a `DateFrame`\n",
    "\n",
    "* Like R, Pandas focuses on columns\n",
    "* Think `dict` of `(str, Series)` pairs \n",
    "* A series is a typed list-like structure"
   ]
  },
  {
   "cell_type": "code",
   "execution_count": 17,
   "metadata": {
    "scrolled": true,
    "slideshow": {
     "slide_type": "fragment"
    }
   },
   "outputs": [],
   "source": [
    "# This is how I imagine a dataframe\n",
    "df = pl.DataFrame({\"Names\": [\"Iverson\", \"Malone\", \"Bergen\"],\n",
    "                   \"Python_mastery\": [10, 5, 1.0],\n",
    "                   \"years_at_wsu\": [4.5, 17.5, 5.5]})"
   ]
  },
  {
   "cell_type": "code",
   "execution_count": 18,
   "metadata": {},
   "outputs": [
    {
     "data": {
      "text/plain": [
       "polars.internals.dataframe.frame.DataFrame"
      ]
     },
     "execution_count": 18,
     "metadata": {},
     "output_type": "execute_result"
    }
   ],
   "source": [
    "type(df)"
   ]
  },
  {
   "cell_type": "markdown",
   "metadata": {
    "slideshow": {
     "slide_type": "slide"
    }
   },
   "source": [
    "## Columns are `Series` and hold one type of data"
   ]
  },
  {
   "cell_type": "code",
   "execution_count": 19,
   "metadata": {
    "slideshow": {
     "slide_type": "fragment"
    }
   },
   "outputs": [
    {
     "data": {
      "text/plain": [
       "(polars.internals.series.series.Series, polars.internals.series.series.Series)"
      ]
     },
     "execution_count": 19,
     "metadata": {},
     "output_type": "execute_result"
    }
   ],
   "source": [
    "type(artists['BeginDate']), type(artists['DisplayName'])"
   ]
  },
  {
   "cell_type": "code",
   "execution_count": 20,
   "metadata": {
    "slideshow": {
     "slide_type": "fragment"
    }
   },
   "outputs": [
    {
     "data": {
      "text/plain": [
       "(polars.datatypes.Int64, polars.datatypes.Utf8)"
      ]
     },
     "execution_count": 20,
     "metadata": {},
     "output_type": "execute_result"
    }
   ],
   "source": [
    "artists['BeginDate'].dtype, artists['DisplayName'].dtype"
   ]
  },
  {
   "cell_type": "markdown",
   "metadata": {
    "slideshow": {
     "slide_type": "slide"
    }
   },
   "source": [
    "## Two ways to access a column\n",
    "\n",
    "* **Method 1:** Actual data series\n",
    "    * `df[\"column_name\"]`\n",
    "* **Method 2:** lazy column expression used in other context\n",
    "    * `pl.col('column_name')`\n",
    "    * Only for proper names!"
   ]
  },
  {
   "cell_type": "code",
   "execution_count": 22,
   "metadata": {
    "slideshow": {
     "slide_type": "fragment"
    }
   },
   "outputs": [
    {
     "data": {
      "text/plain": [
       "shape: (2,)\n",
       "Series: 'BeginDate' [i64]\n",
       "[\n",
       "\t1930\n",
       "\t1936\n",
       "]"
      ]
     },
     "execution_count": 22,
     "metadata": {},
     "output_type": "execute_result"
    }
   ],
   "source": [
    "artists['BeginDate'].head(2)"
   ]
  },
  {
   "cell_type": "code",
   "execution_count": 24,
   "metadata": {},
   "outputs": [
    {
     "data": {
      "text/html": [
       "col(\"BeginDate\")"
      ],
      "text/plain": [
       "<polars.internals.expr.expr.Expr at 0x10c6cf8e0>"
      ]
     },
     "execution_count": 24,
     "metadata": {},
     "output_type": "execute_result"
    }
   ],
   "source": [
    "pl.col('BeginDate') # Nothing (yet)"
   ]
  },
  {
   "cell_type": "markdown",
   "metadata": {
    "slideshow": {
     "slide_type": "slide"
    }
   },
   "source": [
    "## More on data types\n",
    "\n",
    "* See all data types with `df.dtypes`\n",
    "* You can set the `dtypes` when you read a dataframe\n",
    "* Read more about types: [Pandas docs](https://pandas.pydata.org/pandas-docs/stable/generated/pandas.DataFrame.dtypes.html)"
   ]
  },
  {
   "cell_type": "code",
   "execution_count": 25,
   "metadata": {},
   "outputs": [
    {
     "data": {
      "text/plain": [
       "['Any',\n",
       " 'Binary',\n",
       " 'Boolean',\n",
       " 'Callable',\n",
       " 'Categorical',\n",
       " 'ColumnsType',\n",
       " 'DTYPE_TEMPORAL_UNITS',\n",
       " 'DataType',\n",
       " 'DataTypeMappings',\n",
       " 'Date',\n",
       " 'Datetime',\n",
       " 'Decimal',\n",
       " 'Dict',\n",
       " 'Duration',\n",
       " 'Field',\n",
       " 'Float32',\n",
       " 'Float64',\n",
       " 'ForwardRef',\n",
       " 'Int16',\n",
       " 'Int32',\n",
       " 'Int64',\n",
       " 'Int8',\n",
       " 'List',\n",
       " 'Mapping',\n",
       " 'NoneType',\n",
       " 'Null',\n",
       " 'Object',\n",
       " 'OptionType',\n",
       " 'Optional',\n",
       " 'PolarsDataType',\n",
       " 'Schema',\n",
       " 'Sequence',\n",
       " 'Struct',\n",
       " 'T',\n",
       " 'TYPE_CHECKING',\n",
       " 'TemporalDataType',\n",
       " 'Time',\n",
       " 'Tuple',\n",
       " 'Type',\n",
       " 'TypeVar',\n",
       " 'UInt16',\n",
       " 'UInt32',\n",
       " 'UInt64',\n",
       " 'UInt8',\n",
       " 'Union',\n",
       " 'UnionType',\n",
       " 'Unknown',\n",
       " 'Utf8',\n",
       " '_DOCUMENTING',\n",
       " '_DataTypeMappings',\n",
       " '_PYARROW_AVAILABLE',\n",
       " '_SimpleCData',\n",
       " '__annotations__',\n",
       " '__builtins__',\n",
       " '__cached__',\n",
       " '__doc__',\n",
       " '__file__',\n",
       " '__loader__',\n",
       " '__name__',\n",
       " '__package__',\n",
       " '__spec__',\n",
       " '_base_type',\n",
       " '_custom_reconstruct',\n",
       " '_get_idx_type',\n",
       " 'annotations',\n",
       " 'cache',\n",
       " 'ctypes',\n",
       " 'date',\n",
       " 'datetime',\n",
       " 'dtype_str_repr',\n",
       " 'dtype_to_arrow_type',\n",
       " 'dtype_to_ctype',\n",
       " 'dtype_to_ffiname',\n",
       " 'dtype_to_py_type',\n",
       " 'functools',\n",
       " 'get_args',\n",
       " 'get_idx_type',\n",
       " 'is_polars_dtype',\n",
       " 'isclass',\n",
       " 'maybe_cast',\n",
       " 'numpy_char_code_to_dtype',\n",
       " 'pa',\n",
       " 'py_type_to_arrow_type',\n",
       " 'py_type_to_dtype',\n",
       " 're',\n",
       " 'supported_numpy_char_code',\n",
       " 'sys',\n",
       " 'time',\n",
       " 'timedelta']"
      ]
     },
     "execution_count": 25,
     "metadata": {},
     "output_type": "execute_result"
    }
   ],
   "source": [
    "import polars.datatypes\n",
    "\n",
    "dir(polars.datatypes)"
   ]
  },
  {
   "cell_type": "code",
   "execution_count": 26,
   "metadata": {
    "scrolled": true,
    "slideshow": {
     "slide_type": "fragment"
    }
   },
   "outputs": [
    {
     "data": {
      "text/plain": [
       "[polars.datatypes.Int64,\n",
       " polars.datatypes.Utf8,\n",
       " polars.datatypes.Utf8,\n",
       " polars.datatypes.Utf8,\n",
       " polars.datatypes.Utf8,\n",
       " polars.datatypes.Int64,\n",
       " polars.datatypes.Int64,\n",
       " polars.datatypes.Utf8,\n",
       " polars.datatypes.Utf8]"
      ]
     },
     "execution_count": 26,
     "metadata": {},
     "output_type": "execute_result"
    }
   ],
   "source": [
    "artists.dtypes"
   ]
  },
  {
   "cell_type": "markdown",
   "metadata": {},
   "source": [
    "## Setting `dtypes` with `read_csv`\n",
    "\n",
    "We can pass a `dict` of types to `dtype` keyword"
   ]
  },
  {
   "cell_type": "code",
   "execution_count": 27,
   "metadata": {
    "scrolled": true
   },
   "outputs": [
    {
     "data": {
      "text/html": [
       "<div>\n",
       "<style scoped>\n",
       "    .dataframe tbody tr th:only-of-type {\n",
       "        vertical-align: middle;\n",
       "    }\n",
       "\n",
       "    .dataframe tbody tr th {\n",
       "        vertical-align: top;\n",
       "    }\n",
       "\n",
       "    .dataframe thead th {\n",
       "        text-align: right;\n",
       "    }\n",
       "\n",
       "    .dataframe td {\n",
       "        white-space: pre;\n",
       "    }\n",
       "\n",
       "    .dataframe td {\n",
       "        padding-top: 0;\n",
       "    }\n",
       "\n",
       "    .dataframe td {\n",
       "        padding-bottom: 0;\n",
       "    }\n",
       "\n",
       "    .dataframe td {\n",
       "        line-height: 95%;\n",
       "    }\n",
       "</style>\n",
       "<table border=\"1\" class=\"dataframe\" >\n",
       "<small>shape: (5, 9)</small>\n",
       "<thead>\n",
       "<tr>\n",
       "<th>\n",
       "ConstituentID\n",
       "</th>\n",
       "<th>\n",
       "DisplayName\n",
       "</th>\n",
       "<th>\n",
       "ArtistBio\n",
       "</th>\n",
       "<th>\n",
       "Nationality\n",
       "</th>\n",
       "<th>\n",
       "Gender\n",
       "</th>\n",
       "<th>\n",
       "BeginDate\n",
       "</th>\n",
       "<th>\n",
       "EndDate\n",
       "</th>\n",
       "<th>\n",
       "Wiki QID\n",
       "</th>\n",
       "<th>\n",
       "ULAN\n",
       "</th>\n",
       "</tr>\n",
       "<tr>\n",
       "<td>\n",
       "i64\n",
       "</td>\n",
       "<td>\n",
       "str\n",
       "</td>\n",
       "<td>\n",
       "str\n",
       "</td>\n",
       "<td>\n",
       "str\n",
       "</td>\n",
       "<td>\n",
       "str\n",
       "</td>\n",
       "<td>\n",
       "i64\n",
       "</td>\n",
       "<td>\n",
       "i64\n",
       "</td>\n",
       "<td>\n",
       "str\n",
       "</td>\n",
       "<td>\n",
       "i64\n",
       "</td>\n",
       "</tr>\n",
       "</thead>\n",
       "<tbody>\n",
       "<tr>\n",
       "<td>\n",
       "1\n",
       "</td>\n",
       "<td>\n",
       "&quot;Robert Arneson...\n",
       "</td>\n",
       "<td>\n",
       "&quot;American, 1930...\n",
       "</td>\n",
       "<td>\n",
       "&quot;American&quot;\n",
       "</td>\n",
       "<td>\n",
       "&quot;Male&quot;\n",
       "</td>\n",
       "<td>\n",
       "1930\n",
       "</td>\n",
       "<td>\n",
       "1992\n",
       "</td>\n",
       "<td>\n",
       "null\n",
       "</td>\n",
       "<td>\n",
       "null\n",
       "</td>\n",
       "</tr>\n",
       "<tr>\n",
       "<td>\n",
       "2\n",
       "</td>\n",
       "<td>\n",
       "&quot;Doroteo Arnaiz...\n",
       "</td>\n",
       "<td>\n",
       "&quot;Spanish, born ...\n",
       "</td>\n",
       "<td>\n",
       "&quot;Spanish&quot;\n",
       "</td>\n",
       "<td>\n",
       "&quot;Male&quot;\n",
       "</td>\n",
       "<td>\n",
       "1936\n",
       "</td>\n",
       "<td>\n",
       "0\n",
       "</td>\n",
       "<td>\n",
       "null\n",
       "</td>\n",
       "<td>\n",
       "null\n",
       "</td>\n",
       "</tr>\n",
       "<tr>\n",
       "<td>\n",
       "3\n",
       "</td>\n",
       "<td>\n",
       "&quot;Bill Arnold&quot;\n",
       "</td>\n",
       "<td>\n",
       "&quot;American, born...\n",
       "</td>\n",
       "<td>\n",
       "&quot;American&quot;\n",
       "</td>\n",
       "<td>\n",
       "&quot;Male&quot;\n",
       "</td>\n",
       "<td>\n",
       "1941\n",
       "</td>\n",
       "<td>\n",
       "0\n",
       "</td>\n",
       "<td>\n",
       "null\n",
       "</td>\n",
       "<td>\n",
       "null\n",
       "</td>\n",
       "</tr>\n",
       "<tr>\n",
       "<td>\n",
       "4\n",
       "</td>\n",
       "<td>\n",
       "&quot;Charles Arnold...\n",
       "</td>\n",
       "<td>\n",
       "&quot;American, born...\n",
       "</td>\n",
       "<td>\n",
       "&quot;American&quot;\n",
       "</td>\n",
       "<td>\n",
       "&quot;Male&quot;\n",
       "</td>\n",
       "<td>\n",
       "1946\n",
       "</td>\n",
       "<td>\n",
       "0\n",
       "</td>\n",
       "<td>\n",
       "&quot;Q1063584&quot;\n",
       "</td>\n",
       "<td>\n",
       "500027998\n",
       "</td>\n",
       "</tr>\n",
       "<tr>\n",
       "<td>\n",
       "5\n",
       "</td>\n",
       "<td>\n",
       "&quot;Per Arnoldi&quot;\n",
       "</td>\n",
       "<td>\n",
       "&quot;Danish, born 1...\n",
       "</td>\n",
       "<td>\n",
       "&quot;Danish&quot;\n",
       "</td>\n",
       "<td>\n",
       "&quot;Male&quot;\n",
       "</td>\n",
       "<td>\n",
       "1941\n",
       "</td>\n",
       "<td>\n",
       "0\n",
       "</td>\n",
       "<td>\n",
       "null\n",
       "</td>\n",
       "<td>\n",
       "null\n",
       "</td>\n",
       "</tr>\n",
       "</tbody>\n",
       "</table>\n",
       "</div>"
      ],
      "text/plain": [
       "shape: (5, 9)\n",
       "┌────────────┬───────────┬─────────┬───────────┬─────┬───────────┬─────────┬──────────┬───────────┐\n",
       "│ Constituen ┆ DisplayNa ┆ ArtistB ┆ Nationali ┆ ... ┆ BeginDate ┆ EndDate ┆ Wiki QID ┆ ULAN      │\n",
       "│ tID        ┆ me        ┆ io      ┆ ty        ┆     ┆ ---       ┆ ---     ┆ ---      ┆ ---       │\n",
       "│ ---        ┆ ---       ┆ ---     ┆ ---       ┆     ┆ i64       ┆ i64     ┆ str      ┆ i64       │\n",
       "│ i64        ┆ str       ┆ str     ┆ str       ┆     ┆           ┆         ┆          ┆           │\n",
       "╞════════════╪═══════════╪═════════╪═══════════╪═════╪═══════════╪═════════╪══════════╪═══════════╡\n",
       "│ 1          ┆ Robert    ┆ America ┆ American  ┆ ... ┆ 1930      ┆ 1992    ┆ null     ┆ null      │\n",
       "│            ┆ Arneson   ┆ n, 1930 ┆           ┆     ┆           ┆         ┆          ┆           │\n",
       "│            ┆           ┆ –1992   ┆           ┆     ┆           ┆         ┆          ┆           │\n",
       "├╌╌╌╌╌╌╌╌╌╌╌╌┼╌╌╌╌╌╌╌╌╌╌╌┼╌╌╌╌╌╌╌╌╌┼╌╌╌╌╌╌╌╌╌╌╌┼╌╌╌╌╌┼╌╌╌╌╌╌╌╌╌╌╌┼╌╌╌╌╌╌╌╌╌┼╌╌╌╌╌╌╌╌╌╌┼╌╌╌╌╌╌╌╌╌╌╌┤\n",
       "│ 2          ┆ Doroteo   ┆ Spanish ┆ Spanish   ┆ ... ┆ 1936      ┆ 0       ┆ null     ┆ null      │\n",
       "│            ┆ Arnaiz    ┆ , born  ┆           ┆     ┆           ┆         ┆          ┆           │\n",
       "│            ┆           ┆ 1936    ┆           ┆     ┆           ┆         ┆          ┆           │\n",
       "├╌╌╌╌╌╌╌╌╌╌╌╌┼╌╌╌╌╌╌╌╌╌╌╌┼╌╌╌╌╌╌╌╌╌┼╌╌╌╌╌╌╌╌╌╌╌┼╌╌╌╌╌┼╌╌╌╌╌╌╌╌╌╌╌┼╌╌╌╌╌╌╌╌╌┼╌╌╌╌╌╌╌╌╌╌┼╌╌╌╌╌╌╌╌╌╌╌┤\n",
       "│ 3          ┆ Bill      ┆ America ┆ American  ┆ ... ┆ 1941      ┆ 0       ┆ null     ┆ null      │\n",
       "│            ┆ Arnold    ┆ n, born ┆           ┆     ┆           ┆         ┆          ┆           │\n",
       "│            ┆           ┆ 1941    ┆           ┆     ┆           ┆         ┆          ┆           │\n",
       "├╌╌╌╌╌╌╌╌╌╌╌╌┼╌╌╌╌╌╌╌╌╌╌╌┼╌╌╌╌╌╌╌╌╌┼╌╌╌╌╌╌╌╌╌╌╌┼╌╌╌╌╌┼╌╌╌╌╌╌╌╌╌╌╌┼╌╌╌╌╌╌╌╌╌┼╌╌╌╌╌╌╌╌╌╌┼╌╌╌╌╌╌╌╌╌╌╌┤\n",
       "│ 4          ┆ Charles   ┆ America ┆ American  ┆ ... ┆ 1946      ┆ 0       ┆ Q1063584 ┆ 500027998 │\n",
       "│            ┆ Arnoldi   ┆ n, born ┆           ┆     ┆           ┆         ┆          ┆           │\n",
       "│            ┆           ┆ 1946    ┆           ┆     ┆           ┆         ┆          ┆           │\n",
       "├╌╌╌╌╌╌╌╌╌╌╌╌┼╌╌╌╌╌╌╌╌╌╌╌┼╌╌╌╌╌╌╌╌╌┼╌╌╌╌╌╌╌╌╌╌╌┼╌╌╌╌╌┼╌╌╌╌╌╌╌╌╌╌╌┼╌╌╌╌╌╌╌╌╌┼╌╌╌╌╌╌╌╌╌╌┼╌╌╌╌╌╌╌╌╌╌╌┤\n",
       "│ 5          ┆ Per       ┆ Danish, ┆ Danish    ┆ ... ┆ 1941      ┆ 0       ┆ null     ┆ null      │\n",
       "│            ┆ Arnoldi   ┆ born    ┆           ┆     ┆           ┆         ┆          ┆           │\n",
       "│            ┆           ┆ 1941    ┆           ┆     ┆           ┆         ┆          ┆           │\n",
       "└────────────┴───────────┴─────────┴───────────┴─────┴───────────┴─────────┴──────────┴───────────┘"
      ]
     },
     "execution_count": 27,
     "metadata": {},
     "output_type": "execute_result"
    }
   ],
   "source": [
    "import numpy as np\n",
    "artist_types = {'ConstituentID': pl.Int64,\n",
    "                'DisplayName': pl.Utf8,\n",
    "                'ArtistBio': pl.Utf8,\n",
    "                'Nationality': pl.Utf8,\n",
    "                'Gender':pl.Utf8,\n",
    "                'BeginDate': pl.Int64,\n",
    "                'EndDate': pl.Int64,\n",
    "                'Wiki QID': pl.Utf8,\n",
    "                'ULAN':pl.Int64} \n",
    "artists2 = pl.read_csv('./data/artists.csv', dtypes = artist_types)\n",
    "artists2.head()"
   ]
  },
  {
   "cell_type": "markdown",
   "metadata": {},
   "source": [
    "## More on `None` and `NaN`\n",
    "\n",
    "* `None`/`null` is a missing value.\n",
    "* `NaN` represents the result of an undefined operation\n",
    "* `NaN` is **not** missing"
   ]
  },
  {
   "cell_type": "code",
   "execution_count": 28,
   "metadata": {},
   "outputs": [
    {
     "data": {
      "text/html": [
       "<div>\n",
       "<style scoped>\n",
       "    .dataframe tbody tr th:only-of-type {\n",
       "        vertical-align: middle;\n",
       "    }\n",
       "\n",
       "    .dataframe tbody tr th {\n",
       "        vertical-align: top;\n",
       "    }\n",
       "\n",
       "    .dataframe thead th {\n",
       "        text-align: right;\n",
       "    }\n",
       "\n",
       "    .dataframe td {\n",
       "        white-space: pre;\n",
       "    }\n",
       "\n",
       "    .dataframe td {\n",
       "        padding-top: 0;\n",
       "    }\n",
       "\n",
       "    .dataframe td {\n",
       "        padding-bottom: 0;\n",
       "    }\n",
       "\n",
       "    .dataframe td {\n",
       "        line-height: 95%;\n",
       "    }\n",
       "</style>\n",
       "<table border=\"1\" class=\"dataframe\" >\n",
       "<small>shape: (4, 3)</small>\n",
       "<thead>\n",
       "<tr>\n",
       "<th>\n",
       "a\n",
       "</th>\n",
       "<th>\n",
       "b\n",
       "</th>\n",
       "<th>\n",
       "c\n",
       "</th>\n",
       "</tr>\n",
       "<tr>\n",
       "<td>\n",
       "i64\n",
       "</td>\n",
       "<td>\n",
       "i64\n",
       "</td>\n",
       "<td>\n",
       "f64\n",
       "</td>\n",
       "</tr>\n",
       "</thead>\n",
       "<tbody>\n",
       "<tr>\n",
       "<td>\n",
       "-1\n",
       "</td>\n",
       "<td>\n",
       "1\n",
       "</td>\n",
       "<td>\n",
       "1.0\n",
       "</td>\n",
       "</tr>\n",
       "<tr>\n",
       "<td>\n",
       "0\n",
       "</td>\n",
       "<td>\n",
       "2\n",
       "</td>\n",
       "<td>\n",
       "2.0\n",
       "</td>\n",
       "</tr>\n",
       "<tr>\n",
       "<td>\n",
       "1\n",
       "</td>\n",
       "<td>\n",
       "null\n",
       "</td>\n",
       "<td>\n",
       "NaN\n",
       "</td>\n",
       "</tr>\n",
       "<tr>\n",
       "<td>\n",
       "null\n",
       "</td>\n",
       "<td>\n",
       "4\n",
       "</td>\n",
       "<td>\n",
       "4.0\n",
       "</td>\n",
       "</tr>\n",
       "</tbody>\n",
       "</table>\n",
       "</div>"
      ],
      "text/plain": [
       "shape: (4, 3)\n",
       "┌──────┬──────┬─────┐\n",
       "│ a    ┆ b    ┆ c   │\n",
       "│ ---  ┆ ---  ┆ --- │\n",
       "│ i64  ┆ i64  ┆ f64 │\n",
       "╞══════╪══════╪═════╡\n",
       "│ -1   ┆ 1    ┆ 1.0 │\n",
       "├╌╌╌╌╌╌┼╌╌╌╌╌╌┼╌╌╌╌╌┤\n",
       "│ 0    ┆ 2    ┆ 2.0 │\n",
       "├╌╌╌╌╌╌┼╌╌╌╌╌╌┼╌╌╌╌╌┤\n",
       "│ 1    ┆ null ┆ NaN │\n",
       "├╌╌╌╌╌╌┼╌╌╌╌╌╌┼╌╌╌╌╌┤\n",
       "│ null ┆ 4    ┆ 4.0 │\n",
       "└──────┴──────┴─────┘"
      ]
     },
     "execution_count": 28,
     "metadata": {},
     "output_type": "execute_result"
    }
   ],
   "source": [
    "df = pl.DataFrame({'a': [-1, 0 , 1, None],\n",
    "                   'b': [1, 2, None, 4],\n",
    "                   'c': [1, 2, float('nan'), 4]})\n",
    "df"
   ]
  },
  {
   "cell_type": "markdown",
   "metadata": {},
   "source": [
    "### `Nan` are a result of undefined operations"
   ]
  },
  {
   "cell_type": "code",
   "execution_count": 29,
   "metadata": {},
   "outputs": [
    {
     "data": {
      "text/html": [
       "<div>\n",
       "<style scoped>\n",
       "    .dataframe tbody tr th:only-of-type {\n",
       "        vertical-align: middle;\n",
       "    }\n",
       "\n",
       "    .dataframe tbody tr th {\n",
       "        vertical-align: top;\n",
       "    }\n",
       "\n",
       "    .dataframe thead th {\n",
       "        text-align: right;\n",
       "    }\n",
       "\n",
       "    .dataframe td {\n",
       "        white-space: pre;\n",
       "    }\n",
       "\n",
       "    .dataframe td {\n",
       "        padding-top: 0;\n",
       "    }\n",
       "\n",
       "    .dataframe td {\n",
       "        padding-bottom: 0;\n",
       "    }\n",
       "\n",
       "    .dataframe td {\n",
       "        line-height: 95%;\n",
       "    }\n",
       "</style>\n",
       "<table border=\"1\" class=\"dataframe\" >\n",
       "<small>shape: (4, 2)</small>\n",
       "<thead>\n",
       "<tr>\n",
       "<th>\n",
       "a\n",
       "</th>\n",
       "<th>\n",
       "sqrt_a\n",
       "</th>\n",
       "</tr>\n",
       "<tr>\n",
       "<td>\n",
       "i64\n",
       "</td>\n",
       "<td>\n",
       "f64\n",
       "</td>\n",
       "</tr>\n",
       "</thead>\n",
       "<tbody>\n",
       "<tr>\n",
       "<td>\n",
       "-1\n",
       "</td>\n",
       "<td>\n",
       "NaN\n",
       "</td>\n",
       "</tr>\n",
       "<tr>\n",
       "<td>\n",
       "0\n",
       "</td>\n",
       "<td>\n",
       "0.0\n",
       "</td>\n",
       "</tr>\n",
       "<tr>\n",
       "<td>\n",
       "1\n",
       "</td>\n",
       "<td>\n",
       "1.0\n",
       "</td>\n",
       "</tr>\n",
       "<tr>\n",
       "<td>\n",
       "null\n",
       "</td>\n",
       "<td>\n",
       "null\n",
       "</td>\n",
       "</tr>\n",
       "</tbody>\n",
       "</table>\n",
       "</div>"
      ],
      "text/plain": [
       "shape: (4, 2)\n",
       "┌──────┬────────┐\n",
       "│ a    ┆ sqrt_a │\n",
       "│ ---  ┆ ---    │\n",
       "│ i64  ┆ f64    │\n",
       "╞══════╪════════╡\n",
       "│ -1   ┆ NaN    │\n",
       "├╌╌╌╌╌╌┼╌╌╌╌╌╌╌╌┤\n",
       "│ 0    ┆ 0.0    │\n",
       "├╌╌╌╌╌╌┼╌╌╌╌╌╌╌╌┤\n",
       "│ 1    ┆ 1.0    │\n",
       "├╌╌╌╌╌╌┼╌╌╌╌╌╌╌╌┤\n",
       "│ null ┆ null   │\n",
       "└──────┴────────┘"
      ]
     },
     "execution_count": 29,
     "metadata": {},
     "output_type": "execute_result"
    }
   ],
   "source": [
    "df_w_sqrt = (df\n",
    "             .select([pl.col('a'),\n",
    "                      pl.col('a').sqrt().alias('sqrt_a'),\n",
    "                     ])\n",
    ")\n",
    "df_w_sqrt"
   ]
  },
  {
   "cell_type": "markdown",
   "metadata": {},
   "source": [
    "### `Nan`  are not `None` "
   ]
  },
  {
   "cell_type": "code",
   "execution_count": 30,
   "metadata": {},
   "outputs": [
    {
     "data": {
      "text/html": [
       "<div>\n",
       "<style scoped>\n",
       "    .dataframe tbody tr th:only-of-type {\n",
       "        vertical-align: middle;\n",
       "    }\n",
       "\n",
       "    .dataframe tbody tr th {\n",
       "        vertical-align: top;\n",
       "    }\n",
       "\n",
       "    .dataframe thead th {\n",
       "        text-align: right;\n",
       "    }\n",
       "\n",
       "    .dataframe td {\n",
       "        white-space: pre;\n",
       "    }\n",
       "\n",
       "    .dataframe td {\n",
       "        padding-top: 0;\n",
       "    }\n",
       "\n",
       "    .dataframe td {\n",
       "        padding-bottom: 0;\n",
       "    }\n",
       "\n",
       "    .dataframe td {\n",
       "        line-height: 95%;\n",
       "    }\n",
       "</style>\n",
       "<table border=\"1\" class=\"dataframe\" >\n",
       "<small>shape: (4, 4)</small>\n",
       "<thead>\n",
       "<tr>\n",
       "<th>\n",
       "a\n",
       "</th>\n",
       "<th>\n",
       "sqrt_a\n",
       "</th>\n",
       "<th>\n",
       "sqrt_a_is_null\n",
       "</th>\n",
       "<th>\n",
       "sqrt_a_is_nan\n",
       "</th>\n",
       "</tr>\n",
       "<tr>\n",
       "<td>\n",
       "i64\n",
       "</td>\n",
       "<td>\n",
       "f64\n",
       "</td>\n",
       "<td>\n",
       "bool\n",
       "</td>\n",
       "<td>\n",
       "bool\n",
       "</td>\n",
       "</tr>\n",
       "</thead>\n",
       "<tbody>\n",
       "<tr>\n",
       "<td>\n",
       "-1\n",
       "</td>\n",
       "<td>\n",
       "NaN\n",
       "</td>\n",
       "<td>\n",
       "false\n",
       "</td>\n",
       "<td>\n",
       "true\n",
       "</td>\n",
       "</tr>\n",
       "<tr>\n",
       "<td>\n",
       "0\n",
       "</td>\n",
       "<td>\n",
       "0.0\n",
       "</td>\n",
       "<td>\n",
       "false\n",
       "</td>\n",
       "<td>\n",
       "false\n",
       "</td>\n",
       "</tr>\n",
       "<tr>\n",
       "<td>\n",
       "1\n",
       "</td>\n",
       "<td>\n",
       "1.0\n",
       "</td>\n",
       "<td>\n",
       "false\n",
       "</td>\n",
       "<td>\n",
       "false\n",
       "</td>\n",
       "</tr>\n",
       "<tr>\n",
       "<td>\n",
       "null\n",
       "</td>\n",
       "<td>\n",
       "null\n",
       "</td>\n",
       "<td>\n",
       "true\n",
       "</td>\n",
       "<td>\n",
       "null\n",
       "</td>\n",
       "</tr>\n",
       "</tbody>\n",
       "</table>\n",
       "</div>"
      ],
      "text/plain": [
       "shape: (4, 4)\n",
       "┌──────┬────────┬────────────────┬───────────────┐\n",
       "│ a    ┆ sqrt_a ┆ sqrt_a_is_null ┆ sqrt_a_is_nan │\n",
       "│ ---  ┆ ---    ┆ ---            ┆ ---           │\n",
       "│ i64  ┆ f64    ┆ bool           ┆ bool          │\n",
       "╞══════╪════════╪════════════════╪═══════════════╡\n",
       "│ -1   ┆ NaN    ┆ false          ┆ true          │\n",
       "├╌╌╌╌╌╌┼╌╌╌╌╌╌╌╌┼╌╌╌╌╌╌╌╌╌╌╌╌╌╌╌╌┼╌╌╌╌╌╌╌╌╌╌╌╌╌╌╌┤\n",
       "│ 0    ┆ 0.0    ┆ false          ┆ false         │\n",
       "├╌╌╌╌╌╌┼╌╌╌╌╌╌╌╌┼╌╌╌╌╌╌╌╌╌╌╌╌╌╌╌╌┼╌╌╌╌╌╌╌╌╌╌╌╌╌╌╌┤\n",
       "│ 1    ┆ 1.0    ┆ false          ┆ false         │\n",
       "├╌╌╌╌╌╌┼╌╌╌╌╌╌╌╌┼╌╌╌╌╌╌╌╌╌╌╌╌╌╌╌╌┼╌╌╌╌╌╌╌╌╌╌╌╌╌╌╌┤\n",
       "│ null ┆ null   ┆ true           ┆ null          │\n",
       "└──────┴────────┴────────────────┴───────────────┘"
      ]
     },
     "execution_count": 30,
     "metadata": {},
     "output_type": "execute_result"
    }
   ],
   "source": [
    "(df_w_sqrt\n",
    " .with_columns([\n",
    "          pl.col('sqrt_a').is_null().alias('sqrt_a_is_null'),\n",
    "          pl.col('sqrt_a').is_nan().alias('sqrt_a_is_nan'),\n",
    "             ])\n",
    ")"
   ]
  },
  {
   "cell_type": "markdown",
   "metadata": {},
   "source": [
    "## `NaN` and `None` affect aggregation differently.\n",
    "\n",
    "We will discuss the effects of these values on aggregation in a future lecture."
   ]
  },
  {
   "cell_type": "markdown",
   "metadata": {},
   "source": [
    "#### Getting summary statistics for each column with `describe`"
   ]
  },
  {
   "cell_type": "code",
   "execution_count": 32,
   "metadata": {},
   "outputs": [
    {
     "data": {
      "text/html": [
       "<div>\n",
       "<style scoped>\n",
       "    .dataframe tbody tr th:only-of-type {\n",
       "        vertical-align: middle;\n",
       "    }\n",
       "\n",
       "    .dataframe tbody tr th {\n",
       "        vertical-align: top;\n",
       "    }\n",
       "\n",
       "    .dataframe thead th {\n",
       "        text-align: right;\n",
       "    }\n",
       "\n",
       "    .dataframe td {\n",
       "        white-space: pre;\n",
       "    }\n",
       "\n",
       "    .dataframe td {\n",
       "        padding-top: 0;\n",
       "    }\n",
       "\n",
       "    .dataframe td {\n",
       "        padding-bottom: 0;\n",
       "    }\n",
       "\n",
       "    .dataframe td {\n",
       "        line-height: 95%;\n",
       "    }\n",
       "</style>\n",
       "<table border=\"1\" class=\"dataframe\" >\n",
       "<small>shape: (7, 4)</small>\n",
       "<thead>\n",
       "<tr>\n",
       "<th>\n",
       "describe\n",
       "</th>\n",
       "<th>\n",
       "a\n",
       "</th>\n",
       "<th>\n",
       "b\n",
       "</th>\n",
       "<th>\n",
       "c\n",
       "</th>\n",
       "</tr>\n",
       "<tr>\n",
       "<td>\n",
       "str\n",
       "</td>\n",
       "<td>\n",
       "f64\n",
       "</td>\n",
       "<td>\n",
       "f64\n",
       "</td>\n",
       "<td>\n",
       "f64\n",
       "</td>\n",
       "</tr>\n",
       "</thead>\n",
       "<tbody>\n",
       "<tr>\n",
       "<td>\n",
       "&quot;count&quot;\n",
       "</td>\n",
       "<td>\n",
       "4.0\n",
       "</td>\n",
       "<td>\n",
       "4.0\n",
       "</td>\n",
       "<td>\n",
       "4.0\n",
       "</td>\n",
       "</tr>\n",
       "<tr>\n",
       "<td>\n",
       "&quot;null_count&quot;\n",
       "</td>\n",
       "<td>\n",
       "1.0\n",
       "</td>\n",
       "<td>\n",
       "1.0\n",
       "</td>\n",
       "<td>\n",
       "0.0\n",
       "</td>\n",
       "</tr>\n",
       "<tr>\n",
       "<td>\n",
       "&quot;mean&quot;\n",
       "</td>\n",
       "<td>\n",
       "0.0\n",
       "</td>\n",
       "<td>\n",
       "2.333333\n",
       "</td>\n",
       "<td>\n",
       "NaN\n",
       "</td>\n",
       "</tr>\n",
       "<tr>\n",
       "<td>\n",
       "&quot;std&quot;\n",
       "</td>\n",
       "<td>\n",
       "1.0\n",
       "</td>\n",
       "<td>\n",
       "1.527525\n",
       "</td>\n",
       "<td>\n",
       "NaN\n",
       "</td>\n",
       "</tr>\n",
       "<tr>\n",
       "<td>\n",
       "&quot;min&quot;\n",
       "</td>\n",
       "<td>\n",
       "-1.0\n",
       "</td>\n",
       "<td>\n",
       "1.0\n",
       "</td>\n",
       "<td>\n",
       "1.0\n",
       "</td>\n",
       "</tr>\n",
       "<tr>\n",
       "<td>\n",
       "&quot;max&quot;\n",
       "</td>\n",
       "<td>\n",
       "1.0\n",
       "</td>\n",
       "<td>\n",
       "4.0\n",
       "</td>\n",
       "<td>\n",
       "4.0\n",
       "</td>\n",
       "</tr>\n",
       "<tr>\n",
       "<td>\n",
       "&quot;median&quot;\n",
       "</td>\n",
       "<td>\n",
       "0.0\n",
       "</td>\n",
       "<td>\n",
       "2.0\n",
       "</td>\n",
       "<td>\n",
       "3.0\n",
       "</td>\n",
       "</tr>\n",
       "</tbody>\n",
       "</table>\n",
       "</div>"
      ],
      "text/plain": [
       "shape: (7, 4)\n",
       "┌────────────┬──────┬──────────┬─────┐\n",
       "│ describe   ┆ a    ┆ b        ┆ c   │\n",
       "│ ---        ┆ ---  ┆ ---      ┆ --- │\n",
       "│ str        ┆ f64  ┆ f64      ┆ f64 │\n",
       "╞════════════╪══════╪══════════╪═════╡\n",
       "│ count      ┆ 4.0  ┆ 4.0      ┆ 4.0 │\n",
       "├╌╌╌╌╌╌╌╌╌╌╌╌┼╌╌╌╌╌╌┼╌╌╌╌╌╌╌╌╌╌┼╌╌╌╌╌┤\n",
       "│ null_count ┆ 1.0  ┆ 1.0      ┆ 0.0 │\n",
       "├╌╌╌╌╌╌╌╌╌╌╌╌┼╌╌╌╌╌╌┼╌╌╌╌╌╌╌╌╌╌┼╌╌╌╌╌┤\n",
       "│ mean       ┆ 0.0  ┆ 2.333333 ┆ NaN │\n",
       "├╌╌╌╌╌╌╌╌╌╌╌╌┼╌╌╌╌╌╌┼╌╌╌╌╌╌╌╌╌╌┼╌╌╌╌╌┤\n",
       "│ std        ┆ 1.0  ┆ 1.527525 ┆ NaN │\n",
       "├╌╌╌╌╌╌╌╌╌╌╌╌┼╌╌╌╌╌╌┼╌╌╌╌╌╌╌╌╌╌┼╌╌╌╌╌┤\n",
       "│ min        ┆ -1.0 ┆ 1.0      ┆ 1.0 │\n",
       "├╌╌╌╌╌╌╌╌╌╌╌╌┼╌╌╌╌╌╌┼╌╌╌╌╌╌╌╌╌╌┼╌╌╌╌╌┤\n",
       "│ max        ┆ 1.0  ┆ 4.0      ┆ 4.0 │\n",
       "├╌╌╌╌╌╌╌╌╌╌╌╌┼╌╌╌╌╌╌┼╌╌╌╌╌╌╌╌╌╌┼╌╌╌╌╌┤\n",
       "│ median     ┆ 0.0  ┆ 2.0      ┆ 3.0 │\n",
       "└────────────┴──────┴──────────┴─────┘"
      ]
     },
     "execution_count": 32,
     "metadata": {},
     "output_type": "execute_result"
    }
   ],
   "source": [
    "df.describe()"
   ]
  },
  {
   "cell_type": "markdown",
   "metadata": {},
   "source": [
    "## Preview of coming attractions\n",
    "\n",
    "* Now we can switch `BeginDate` and `EndDate` from `0` to `pl.null`\n",
    "* We will do this in the next section"
   ]
  },
  {
   "cell_type": "markdown",
   "metadata": {
    "slideshow": {
     "slide_type": "slide"
    }
   },
   "source": [
    "# Getting to know your data"
   ]
  },
  {
   "cell_type": "markdown",
   "metadata": {
    "slideshow": {
     "slide_type": "slide"
    }
   },
   "source": [
    "## Basic inspection tools\n",
    "\n",
    "* `df.head()`        first five rows\n",
    "* `df.tail()`        last five rows\n",
    "* `df.sample(5)`     random sample of rows\n",
    "* `df.shape`         number of rows/columns in a tuple\n",
    "* `df.describe()`    calculates measures of central tendency\n",
    "* `df.info()`"
   ]
  },
  {
   "cell_type": "markdown",
   "metadata": {
    "slideshow": {
     "slide_type": "slide"
    }
   },
   "source": [
    "## <font color=\"red\"> Exercise 2.1.3: Inspect the artwork from MoMA </font>"
   ]
  },
  {
   "cell_type": "markdown",
   "metadata": {},
   "source": [
    "#### Read the csv and inspect the `head`"
   ]
  },
  {
   "cell_type": "code",
   "execution_count": null,
   "metadata": {
    "scrolled": true,
    "slideshow": {
     "slide_type": "slide"
    }
   },
   "outputs": [],
   "source": [
    "artwork.head()"
   ]
  },
  {
   "cell_type": "markdown",
   "metadata": {},
   "source": [
    "**Task:** Write a few sentences describing an problems"
   ]
  },
  {
   "cell_type": "markdown",
   "metadata": {},
   "source": [
    "*Your thoughts here*"
   ]
  },
  {
   "cell_type": "markdown",
   "metadata": {},
   "source": [
    "#### Inspect the column names with the `columns` attribute"
   ]
  },
  {
   "cell_type": "code",
   "execution_count": 17,
   "metadata": {},
   "outputs": [
    {
     "data": {
      "text/plain": [
       "Index(['Title', 'Artist', 'ConstituentID', 'ArtistBio', 'Nationality',\n",
       "       'BeginDate', 'EndDate', 'Gender', 'Date', 'Medium', 'Dimensions',\n",
       "       'CreditLine', 'AccessionNumber', 'Classification', 'Department',\n",
       "       'DateAcquired', 'Cataloged', 'ObjectID', 'URL', 'ThumbnailURL',\n",
       "       'Circumference (cm)', 'Depth (cm)', 'Diameter (cm)', 'Height (cm)',\n",
       "       'Length (cm)', 'Weight (kg)', 'Width (cm)', 'Seat Height (cm)',\n",
       "       'Duration (sec.)'],\n",
       "      dtype='object')"
      ]
     },
     "execution_count": 17,
     "metadata": {},
     "output_type": "execute_result"
    }
   ],
   "source": [
    "artwork.columns"
   ]
  },
  {
   "cell_type": "markdown",
   "metadata": {},
   "source": [
    "**Question:** See any problems?"
   ]
  },
  {
   "cell_type": "markdown",
   "metadata": {},
   "source": [
    "*Your thoughts here*"
   ]
  },
  {
   "cell_type": "markdown",
   "metadata": {},
   "source": [
    "#### Inspect the tail"
   ]
  },
  {
   "cell_type": "code",
   "execution_count": null,
   "metadata": {
    "scrolled": true,
    "slideshow": {
     "slide_type": "slide"
    }
   },
   "outputs": [],
   "source": [
    "artwork.tail()"
   ]
  },
  {
   "cell_type": "markdown",
   "metadata": {},
   "source": [
    "#### Check out the `shape`"
   ]
  },
  {
   "cell_type": "code",
   "execution_count": null,
   "metadata": {
    "slideshow": {
     "slide_type": "slide"
    }
   },
   "outputs": [],
   "source": [
    "artwork.shape"
   ]
  },
  {
   "cell_type": "markdown",
   "metadata": {},
   "source": [
    "**Question:** What do these number mean?"
   ]
  },
  {
   "cell_type": "markdown",
   "metadata": {},
   "source": [
    "*Your thoughts here*"
   ]
  },
  {
   "cell_type": "markdown",
   "metadata": {},
   "source": [
    "#### Use `describe` to compute statistics"
   ]
  },
  {
   "cell_type": "code",
   "execution_count": null,
   "metadata": {
    "slideshow": {
     "slide_type": "slide"
    }
   },
   "outputs": [],
   "source": [
    "artwork.describe()"
   ]
  },
  {
   "cell_type": "markdown",
   "metadata": {},
   "source": [
    "**Question:** What did you learn from the last cell?"
   ]
  },
  {
   "cell_type": "markdown",
   "metadata": {},
   "source": [
    "*Your thoughts here*"
   ]
  }
 ],
 "metadata": {
  "kernelspec": {
   "display_name": "Python 3 (ipykernel)",
   "language": "python",
   "name": "python3"
  },
  "language_info": {
   "codemirror_mode": {
    "name": "ipython",
    "version": 3
   },
   "file_extension": ".py",
   "mimetype": "text/x-python",
   "name": "python",
   "nbconvert_exporter": "python",
   "pygments_lexer": "ipython3",
   "version": "3.9.12"
  },
  "varInspector": {
   "cols": {
    "lenName": 16,
    "lenType": 16,
    "lenVar": 40
   },
   "kernels_config": {
    "python": {
     "delete_cmd_postfix": "",
     "delete_cmd_prefix": "del ",
     "library": "var_list.py",
     "varRefreshCmd": "print(var_dic_list())"
    },
    "r": {
     "delete_cmd_postfix": ") ",
     "delete_cmd_prefix": "rm(",
     "library": "var_list.r",
     "varRefreshCmd": "cat(var_dic_list()) "
    }
   },
   "types_to_exclude": [
    "module",
    "function",
    "builtin_function_or_method",
    "instance",
    "_Feature"
   ],
   "window_display": false
  }
 },
 "nbformat": 4,
 "nbformat_minor": 2
}
