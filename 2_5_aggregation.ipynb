{
 "cells": [
  {
   "cell_type": "markdown",
   "metadata": {
    "slideshow": {
     "slide_type": "slide"
    }
   },
   "source": [
    "# Aggregation"
   ]
  },
  {
   "cell_type": "code",
   "execution_count": 3,
   "metadata": {
    "slideshow": {
     "slide_type": "fragment"
    }
   },
   "outputs": [],
   "source": [
    "import polars as pl"
   ]
  },
  {
   "cell_type": "markdown",
   "metadata": {
    "slideshow": {
     "slide_type": "slide"
    }
   },
   "source": [
    "## What is aggregation?\n",
    "\n",
    "The act of collapsing many rows into few rows."
   ]
  },
  {
   "cell_type": "markdown",
   "metadata": {
    "slideshow": {
     "slide_type": "slide"
    }
   },
   "source": [
    "## Example - Baseball pitching"
   ]
  },
  {
   "cell_type": "code",
   "execution_count": 5,
   "metadata": {
    "scrolled": true,
    "slideshow": {
     "slide_type": "fragment"
    }
   },
   "outputs": [
    {
     "data": {
      "text/html": [
       "<div>\n",
       "<style scoped>\n",
       "    .dataframe tbody tr th:only-of-type {\n",
       "        vertical-align: middle;\n",
       "    }\n",
       "\n",
       "    .dataframe tbody tr th {\n",
       "        vertical-align: top;\n",
       "    }\n",
       "\n",
       "    .dataframe thead th {\n",
       "        text-align: right;\n",
       "    }\n",
       "\n",
       "    .dataframe td {\n",
       "        white-space: pre;\n",
       "    }\n",
       "\n",
       "    .dataframe td {\n",
       "        padding-top: 0;\n",
       "    }\n",
       "\n",
       "    .dataframe td {\n",
       "        padding-bottom: 0;\n",
       "    }\n",
       "\n",
       "    .dataframe td {\n",
       "        line-height: 95%;\n",
       "    }\n",
       "</style>\n",
       "<table border=\"1\" class=\"dataframe\" >\n",
       "<small>shape: (5, 30)</small>\n",
       "<thead>\n",
       "<tr>\n",
       "<th>\n",
       "playerID\n",
       "</th>\n",
       "<th>\n",
       "yearID\n",
       "</th>\n",
       "<th>\n",
       "stint\n",
       "</th>\n",
       "<th>\n",
       "teamID\n",
       "</th>\n",
       "<th>\n",
       "lgID\n",
       "</th>\n",
       "<th>\n",
       "W\n",
       "</th>\n",
       "<th>\n",
       "L\n",
       "</th>\n",
       "<th>\n",
       "G\n",
       "</th>\n",
       "<th>\n",
       "GS\n",
       "</th>\n",
       "<th>\n",
       "CG\n",
       "</th>\n",
       "<th>\n",
       "SHO\n",
       "</th>\n",
       "<th>\n",
       "SV\n",
       "</th>\n",
       "<th>\n",
       "IPouts\n",
       "</th>\n",
       "<th>\n",
       "H\n",
       "</th>\n",
       "<th>\n",
       "ER\n",
       "</th>\n",
       "<th>\n",
       "HR\n",
       "</th>\n",
       "<th>\n",
       "BB\n",
       "</th>\n",
       "<th>\n",
       "SO\n",
       "</th>\n",
       "<th>\n",
       "BAOpp\n",
       "</th>\n",
       "<th>\n",
       "ERA\n",
       "</th>\n",
       "<th>\n",
       "IBB\n",
       "</th>\n",
       "<th>\n",
       "WP\n",
       "</th>\n",
       "<th>\n",
       "HBP\n",
       "</th>\n",
       "<th>\n",
       "BK\n",
       "</th>\n",
       "<th>\n",
       "BFP\n",
       "</th>\n",
       "<th>\n",
       "GF\n",
       "</th>\n",
       "<th>\n",
       "R\n",
       "</th>\n",
       "<th>\n",
       "SH\n",
       "</th>\n",
       "<th>\n",
       "SF\n",
       "</th>\n",
       "<th>\n",
       "GIDP\n",
       "</th>\n",
       "</tr>\n",
       "<tr>\n",
       "<td>\n",
       "str\n",
       "</td>\n",
       "<td>\n",
       "i64\n",
       "</td>\n",
       "<td>\n",
       "i64\n",
       "</td>\n",
       "<td>\n",
       "str\n",
       "</td>\n",
       "<td>\n",
       "str\n",
       "</td>\n",
       "<td>\n",
       "i64\n",
       "</td>\n",
       "<td>\n",
       "i64\n",
       "</td>\n",
       "<td>\n",
       "i64\n",
       "</td>\n",
       "<td>\n",
       "i64\n",
       "</td>\n",
       "<td>\n",
       "i64\n",
       "</td>\n",
       "<td>\n",
       "i64\n",
       "</td>\n",
       "<td>\n",
       "i64\n",
       "</td>\n",
       "<td>\n",
       "i64\n",
       "</td>\n",
       "<td>\n",
       "i64\n",
       "</td>\n",
       "<td>\n",
       "i64\n",
       "</td>\n",
       "<td>\n",
       "i64\n",
       "</td>\n",
       "<td>\n",
       "i64\n",
       "</td>\n",
       "<td>\n",
       "i64\n",
       "</td>\n",
       "<td>\n",
       "str\n",
       "</td>\n",
       "<td>\n",
       "f64\n",
       "</td>\n",
       "<td>\n",
       "str\n",
       "</td>\n",
       "<td>\n",
       "i64\n",
       "</td>\n",
       "<td>\n",
       "str\n",
       "</td>\n",
       "<td>\n",
       "i64\n",
       "</td>\n",
       "<td>\n",
       "i64\n",
       "</td>\n",
       "<td>\n",
       "i64\n",
       "</td>\n",
       "<td>\n",
       "i64\n",
       "</td>\n",
       "<td>\n",
       "str\n",
       "</td>\n",
       "<td>\n",
       "str\n",
       "</td>\n",
       "<td>\n",
       "str\n",
       "</td>\n",
       "</tr>\n",
       "</thead>\n",
       "<tbody>\n",
       "<tr>\n",
       "<td>\n",
       "&quot;bechtge01&quot;\n",
       "</td>\n",
       "<td>\n",
       "1871\n",
       "</td>\n",
       "<td>\n",
       "1\n",
       "</td>\n",
       "<td>\n",
       "&quot;PH1&quot;\n",
       "</td>\n",
       "<td>\n",
       "&quot;NA&quot;\n",
       "</td>\n",
       "<td>\n",
       "1\n",
       "</td>\n",
       "<td>\n",
       "2\n",
       "</td>\n",
       "<td>\n",
       "3\n",
       "</td>\n",
       "<td>\n",
       "3\n",
       "</td>\n",
       "<td>\n",
       "2\n",
       "</td>\n",
       "<td>\n",
       "0\n",
       "</td>\n",
       "<td>\n",
       "0\n",
       "</td>\n",
       "<td>\n",
       "78\n",
       "</td>\n",
       "<td>\n",
       "43\n",
       "</td>\n",
       "<td>\n",
       "23\n",
       "</td>\n",
       "<td>\n",
       "0\n",
       "</td>\n",
       "<td>\n",
       "11\n",
       "</td>\n",
       "<td>\n",
       "1\n",
       "</td>\n",
       "<td>\n",
       "null\n",
       "</td>\n",
       "<td>\n",
       "7.96\n",
       "</td>\n",
       "<td>\n",
       "null\n",
       "</td>\n",
       "<td>\n",
       "7\n",
       "</td>\n",
       "<td>\n",
       "null\n",
       "</td>\n",
       "<td>\n",
       "0\n",
       "</td>\n",
       "<td>\n",
       "146\n",
       "</td>\n",
       "<td>\n",
       "0\n",
       "</td>\n",
       "<td>\n",
       "42\n",
       "</td>\n",
       "<td>\n",
       "null\n",
       "</td>\n",
       "<td>\n",
       "null\n",
       "</td>\n",
       "<td>\n",
       "null\n",
       "</td>\n",
       "</tr>\n",
       "<tr>\n",
       "<td>\n",
       "&quot;brainas01&quot;\n",
       "</td>\n",
       "<td>\n",
       "1871\n",
       "</td>\n",
       "<td>\n",
       "1\n",
       "</td>\n",
       "<td>\n",
       "&quot;WS3&quot;\n",
       "</td>\n",
       "<td>\n",
       "&quot;NA&quot;\n",
       "</td>\n",
       "<td>\n",
       "12\n",
       "</td>\n",
       "<td>\n",
       "15\n",
       "</td>\n",
       "<td>\n",
       "30\n",
       "</td>\n",
       "<td>\n",
       "30\n",
       "</td>\n",
       "<td>\n",
       "30\n",
       "</td>\n",
       "<td>\n",
       "0\n",
       "</td>\n",
       "<td>\n",
       "0\n",
       "</td>\n",
       "<td>\n",
       "792\n",
       "</td>\n",
       "<td>\n",
       "361\n",
       "</td>\n",
       "<td>\n",
       "132\n",
       "</td>\n",
       "<td>\n",
       "4\n",
       "</td>\n",
       "<td>\n",
       "37\n",
       "</td>\n",
       "<td>\n",
       "13\n",
       "</td>\n",
       "<td>\n",
       "null\n",
       "</td>\n",
       "<td>\n",
       "4.5\n",
       "</td>\n",
       "<td>\n",
       "null\n",
       "</td>\n",
       "<td>\n",
       "7\n",
       "</td>\n",
       "<td>\n",
       "null\n",
       "</td>\n",
       "<td>\n",
       "0\n",
       "</td>\n",
       "<td>\n",
       "1291\n",
       "</td>\n",
       "<td>\n",
       "0\n",
       "</td>\n",
       "<td>\n",
       "292\n",
       "</td>\n",
       "<td>\n",
       "null\n",
       "</td>\n",
       "<td>\n",
       "null\n",
       "</td>\n",
       "<td>\n",
       "null\n",
       "</td>\n",
       "</tr>\n",
       "<tr>\n",
       "<td>\n",
       "&quot;fergubo01&quot;\n",
       "</td>\n",
       "<td>\n",
       "1871\n",
       "</td>\n",
       "<td>\n",
       "1\n",
       "</td>\n",
       "<td>\n",
       "&quot;NY2&quot;\n",
       "</td>\n",
       "<td>\n",
       "&quot;NA&quot;\n",
       "</td>\n",
       "<td>\n",
       "0\n",
       "</td>\n",
       "<td>\n",
       "0\n",
       "</td>\n",
       "<td>\n",
       "1\n",
       "</td>\n",
       "<td>\n",
       "0\n",
       "</td>\n",
       "<td>\n",
       "0\n",
       "</td>\n",
       "<td>\n",
       "0\n",
       "</td>\n",
       "<td>\n",
       "0\n",
       "</td>\n",
       "<td>\n",
       "3\n",
       "</td>\n",
       "<td>\n",
       "8\n",
       "</td>\n",
       "<td>\n",
       "3\n",
       "</td>\n",
       "<td>\n",
       "0\n",
       "</td>\n",
       "<td>\n",
       "0\n",
       "</td>\n",
       "<td>\n",
       "0\n",
       "</td>\n",
       "<td>\n",
       "null\n",
       "</td>\n",
       "<td>\n",
       "27.0\n",
       "</td>\n",
       "<td>\n",
       "null\n",
       "</td>\n",
       "<td>\n",
       "2\n",
       "</td>\n",
       "<td>\n",
       "null\n",
       "</td>\n",
       "<td>\n",
       "0\n",
       "</td>\n",
       "<td>\n",
       "14\n",
       "</td>\n",
       "<td>\n",
       "0\n",
       "</td>\n",
       "<td>\n",
       "9\n",
       "</td>\n",
       "<td>\n",
       "null\n",
       "</td>\n",
       "<td>\n",
       "null\n",
       "</td>\n",
       "<td>\n",
       "null\n",
       "</td>\n",
       "</tr>\n",
       "<tr>\n",
       "<td>\n",
       "&quot;fishech01&quot;\n",
       "</td>\n",
       "<td>\n",
       "1871\n",
       "</td>\n",
       "<td>\n",
       "1\n",
       "</td>\n",
       "<td>\n",
       "&quot;RC1&quot;\n",
       "</td>\n",
       "<td>\n",
       "&quot;NA&quot;\n",
       "</td>\n",
       "<td>\n",
       "4\n",
       "</td>\n",
       "<td>\n",
       "16\n",
       "</td>\n",
       "<td>\n",
       "24\n",
       "</td>\n",
       "<td>\n",
       "24\n",
       "</td>\n",
       "<td>\n",
       "22\n",
       "</td>\n",
       "<td>\n",
       "1\n",
       "</td>\n",
       "<td>\n",
       "0\n",
       "</td>\n",
       "<td>\n",
       "639\n",
       "</td>\n",
       "<td>\n",
       "295\n",
       "</td>\n",
       "<td>\n",
       "103\n",
       "</td>\n",
       "<td>\n",
       "3\n",
       "</td>\n",
       "<td>\n",
       "31\n",
       "</td>\n",
       "<td>\n",
       "15\n",
       "</td>\n",
       "<td>\n",
       "null\n",
       "</td>\n",
       "<td>\n",
       "4.35\n",
       "</td>\n",
       "<td>\n",
       "null\n",
       "</td>\n",
       "<td>\n",
       "20\n",
       "</td>\n",
       "<td>\n",
       "null\n",
       "</td>\n",
       "<td>\n",
       "0\n",
       "</td>\n",
       "<td>\n",
       "1080\n",
       "</td>\n",
       "<td>\n",
       "1\n",
       "</td>\n",
       "<td>\n",
       "257\n",
       "</td>\n",
       "<td>\n",
       "null\n",
       "</td>\n",
       "<td>\n",
       "null\n",
       "</td>\n",
       "<td>\n",
       "null\n",
       "</td>\n",
       "</tr>\n",
       "<tr>\n",
       "<td>\n",
       "&quot;fleetfr01&quot;\n",
       "</td>\n",
       "<td>\n",
       "1871\n",
       "</td>\n",
       "<td>\n",
       "1\n",
       "</td>\n",
       "<td>\n",
       "&quot;NY2&quot;\n",
       "</td>\n",
       "<td>\n",
       "&quot;NA&quot;\n",
       "</td>\n",
       "<td>\n",
       "0\n",
       "</td>\n",
       "<td>\n",
       "1\n",
       "</td>\n",
       "<td>\n",
       "1\n",
       "</td>\n",
       "<td>\n",
       "1\n",
       "</td>\n",
       "<td>\n",
       "1\n",
       "</td>\n",
       "<td>\n",
       "0\n",
       "</td>\n",
       "<td>\n",
       "0\n",
       "</td>\n",
       "<td>\n",
       "27\n",
       "</td>\n",
       "<td>\n",
       "20\n",
       "</td>\n",
       "<td>\n",
       "10\n",
       "</td>\n",
       "<td>\n",
       "0\n",
       "</td>\n",
       "<td>\n",
       "3\n",
       "</td>\n",
       "<td>\n",
       "0\n",
       "</td>\n",
       "<td>\n",
       "null\n",
       "</td>\n",
       "<td>\n",
       "10.0\n",
       "</td>\n",
       "<td>\n",
       "null\n",
       "</td>\n",
       "<td>\n",
       "0\n",
       "</td>\n",
       "<td>\n",
       "null\n",
       "</td>\n",
       "<td>\n",
       "0\n",
       "</td>\n",
       "<td>\n",
       "57\n",
       "</td>\n",
       "<td>\n",
       "0\n",
       "</td>\n",
       "<td>\n",
       "21\n",
       "</td>\n",
       "<td>\n",
       "null\n",
       "</td>\n",
       "<td>\n",
       "null\n",
       "</td>\n",
       "<td>\n",
       "null\n",
       "</td>\n",
       "</tr>\n",
       "</tbody>\n",
       "</table>\n",
       "</div>"
      ],
      "text/plain": [
       "shape: (5, 30)\n",
       "┌───────────┬────────┬───────┬────────┬─────┬─────┬──────┬──────┬──────┐\n",
       "│ playerID  ┆ yearID ┆ stint ┆ teamID ┆ ... ┆ R   ┆ SH   ┆ SF   ┆ GIDP │\n",
       "│ ---       ┆ ---    ┆ ---   ┆ ---    ┆     ┆ --- ┆ ---  ┆ ---  ┆ ---  │\n",
       "│ str       ┆ i64    ┆ i64   ┆ str    ┆     ┆ i64 ┆ str  ┆ str  ┆ str  │\n",
       "╞═══════════╪════════╪═══════╪════════╪═════╪═════╪══════╪══════╪══════╡\n",
       "│ bechtge01 ┆ 1871   ┆ 1     ┆ PH1    ┆ ... ┆ 42  ┆ null ┆ null ┆ null │\n",
       "├╌╌╌╌╌╌╌╌╌╌╌┼╌╌╌╌╌╌╌╌┼╌╌╌╌╌╌╌┼╌╌╌╌╌╌╌╌┼╌╌╌╌╌┼╌╌╌╌╌┼╌╌╌╌╌╌┼╌╌╌╌╌╌┼╌╌╌╌╌╌┤\n",
       "│ brainas01 ┆ 1871   ┆ 1     ┆ WS3    ┆ ... ┆ 292 ┆ null ┆ null ┆ null │\n",
       "├╌╌╌╌╌╌╌╌╌╌╌┼╌╌╌╌╌╌╌╌┼╌╌╌╌╌╌╌┼╌╌╌╌╌╌╌╌┼╌╌╌╌╌┼╌╌╌╌╌┼╌╌╌╌╌╌┼╌╌╌╌╌╌┼╌╌╌╌╌╌┤\n",
       "│ fergubo01 ┆ 1871   ┆ 1     ┆ NY2    ┆ ... ┆ 9   ┆ null ┆ null ┆ null │\n",
       "├╌╌╌╌╌╌╌╌╌╌╌┼╌╌╌╌╌╌╌╌┼╌╌╌╌╌╌╌┼╌╌╌╌╌╌╌╌┼╌╌╌╌╌┼╌╌╌╌╌┼╌╌╌╌╌╌┼╌╌╌╌╌╌┼╌╌╌╌╌╌┤\n",
       "│ fishech01 ┆ 1871   ┆ 1     ┆ RC1    ┆ ... ┆ 257 ┆ null ┆ null ┆ null │\n",
       "├╌╌╌╌╌╌╌╌╌╌╌┼╌╌╌╌╌╌╌╌┼╌╌╌╌╌╌╌┼╌╌╌╌╌╌╌╌┼╌╌╌╌╌┼╌╌╌╌╌┼╌╌╌╌╌╌┼╌╌╌╌╌╌┼╌╌╌╌╌╌┤\n",
       "│ fleetfr01 ┆ 1871   ┆ 1     ┆ NY2    ┆ ... ┆ 21  ┆ null ┆ null ┆ null │\n",
       "└───────────┴────────┴───────┴────────┴─────┴─────┴──────┴──────┴──────┘"
      ]
     },
     "execution_count": 5,
     "metadata": {},
     "output_type": "execute_result"
    }
   ],
   "source": [
    "pitching = pl.read_csv('./data/baseball/core/Pitching.csv') \n",
    "pitching.head()"
   ]
  },
  {
   "cell_type": "markdown",
   "metadata": {
    "slideshow": {
     "slide_type": "slide"
    }
   },
   "source": [
    "## Simple Aggregation\n",
    "\n",
    "A **simple aggregation** collapses all rows into one row.\n",
    "\n",
    "<img src=\"./img/simple_aggregation.png\" width=800>"
   ]
  },
  {
   "cell_type": "markdown",
   "metadata": {
    "slideshow": {
     "slide_type": "slide"
    }
   },
   "source": [
    "## Simple aggregation with `df.select`"
   ]
  },
  {
   "cell_type": "code",
   "execution_count": 15,
   "metadata": {},
   "outputs": [
    {
     "data": {
      "text/html": [
       "<div>\n",
       "<style scoped>\n",
       "    .dataframe tbody tr th:only-of-type {\n",
       "        vertical-align: middle;\n",
       "    }\n",
       "\n",
       "    .dataframe tbody tr th {\n",
       "        vertical-align: top;\n",
       "    }\n",
       "\n",
       "    .dataframe thead th {\n",
       "        text-align: right;\n",
       "    }\n",
       "\n",
       "    .dataframe td {\n",
       "        white-space: pre;\n",
       "    }\n",
       "\n",
       "    .dataframe td {\n",
       "        padding-top: 0;\n",
       "    }\n",
       "\n",
       "    .dataframe td {\n",
       "        padding-bottom: 0;\n",
       "    }\n",
       "\n",
       "    .dataframe td {\n",
       "        line-height: 95%;\n",
       "    }\n",
       "</style>\n",
       "<table border=\"1\" class=\"dataframe\" >\n",
       "<small>shape: (1, 4)</small>\n",
       "<thead>\n",
       "<tr>\n",
       "<th>\n",
       "Mean Hits\n",
       "</th>\n",
       "<th>\n",
       "SD Hits\n",
       "</th>\n",
       "<th>\n",
       "Min Wins\n",
       "</th>\n",
       "<th>\n",
       "Max Wins\n",
       "</th>\n",
       "</tr>\n",
       "<tr>\n",
       "<td>\n",
       "f64\n",
       "</td>\n",
       "<td>\n",
       "f64\n",
       "</td>\n",
       "<td>\n",
       "i64\n",
       "</td>\n",
       "<td>\n",
       "i64\n",
       "</td>\n",
       "</tr>\n",
       "</thead>\n",
       "<tbody>\n",
       "<tr>\n",
       "<td>\n",
       "5.11792\n",
       "</td>\n",
       "<td>\n",
       "5.466654\n",
       "</td>\n",
       "<td>\n",
       "0\n",
       "</td>\n",
       "<td>\n",
       "60\n",
       "</td>\n",
       "</tr>\n",
       "</tbody>\n",
       "</table>\n",
       "</div>"
      ],
      "text/plain": [
       "shape: (1, 4)\n",
       "┌───────────┬──────────┬──────────┬──────────┐\n",
       "│ Mean Hits ┆ SD Hits  ┆ Min Wins ┆ Max Wins │\n",
       "│ ---       ┆ ---      ┆ ---      ┆ ---      │\n",
       "│ f64       ┆ f64      ┆ i64      ┆ i64      │\n",
       "╞═══════════╪══════════╪══════════╪══════════╡\n",
       "│ 5.11792   ┆ 5.466654 ┆ 0        ┆ 60       │\n",
       "└───────────┴──────────┴──────────┴──────────┘"
      ]
     },
     "execution_count": 15,
     "metadata": {},
     "output_type": "execute_result"
    }
   ],
   "source": [
    "(pitching\n",
    "  .select([pl.col('ERA').mean().alias('Mean Hits'),\n",
    "           pl.col('ERA').std().alias('SD Hits'),\n",
    "           pl.col('W').min().alias('Min Wins'),\n",
    "           pl.col('W').max().alias('Max Wins'),\n",
    "          ])\n",
    ")"
   ]
  },
  {
   "cell_type": "markdown",
   "metadata": {},
   "source": [
    "#### Simple aggregation with a filter."
   ]
  },
  {
   "cell_type": "code",
   "execution_count": 24,
   "metadata": {},
   "outputs": [
    {
     "data": {
      "text/html": [
       "<div>\n",
       "<style scoped>\n",
       "    .dataframe tbody tr th:only-of-type {\n",
       "        vertical-align: middle;\n",
       "    }\n",
       "\n",
       "    .dataframe tbody tr th {\n",
       "        vertical-align: top;\n",
       "    }\n",
       "\n",
       "    .dataframe thead th {\n",
       "        text-align: right;\n",
       "    }\n",
       "\n",
       "    .dataframe td {\n",
       "        white-space: pre;\n",
       "    }\n",
       "\n",
       "    .dataframe td {\n",
       "        padding-top: 0;\n",
       "    }\n",
       "\n",
       "    .dataframe td {\n",
       "        padding-bottom: 0;\n",
       "    }\n",
       "\n",
       "    .dataframe td {\n",
       "        line-height: 95%;\n",
       "    }\n",
       "</style>\n",
       "<table border=\"1\" class=\"dataframe\" >\n",
       "<small>shape: (1, 2)</small>\n",
       "<thead>\n",
       "<tr>\n",
       "<th>\n",
       "Avg Wins per Season (post WW2)\n",
       "</th>\n",
       "<th>\n",
       "Avg Wins per Season (Interwar)\n",
       "</th>\n",
       "</tr>\n",
       "<tr>\n",
       "<td>\n",
       "f64\n",
       "</td>\n",
       "<td>\n",
       "f64\n",
       "</td>\n",
       "</tr>\n",
       "</thead>\n",
       "<tbody>\n",
       "<tr>\n",
       "<td>\n",
       "4.062594\n",
       "</td>\n",
       "<td>\n",
       "5.606054\n",
       "</td>\n",
       "</tr>\n",
       "</tbody>\n",
       "</table>\n",
       "</div>"
      ],
      "text/plain": [
       "shape: (1, 2)\n",
       "┌────────────────────────────────┬────────────────────────────────┐\n",
       "│ Avg Wins per Season (post WW2) ┆ Avg Wins per Season (Interwar) │\n",
       "│ ---                            ┆ ---                            │\n",
       "│ f64                            ┆ f64                            │\n",
       "╞════════════════════════════════╪════════════════════════════════╡\n",
       "│ 4.062594                       ┆ 5.606054                       │\n",
       "└────────────────────────────────┴────────────────────────────────┘"
      ]
     },
     "execution_count": 24,
     "metadata": {},
     "output_type": "execute_result"
    }
   ],
   "source": [
    "(pitching\n",
    "  .select([pl.col('W').filter(pl.col('yearID') >= 1946).mean().alias('Avg Wins per Season (post WW2)'),\n",
    "           pl.col('W').filter((1918 <= pl.col('yearID')) & (pl.col('yearID') <= 1938)).mean().alias('Avg Wins per Season (Interwar)'),\n",
    "          ])\n",
    ")"
   ]
  },
  {
   "cell_type": "markdown",
   "metadata": {},
   "source": [
    "#### Refactored/rearranged"
   ]
  },
  {
   "cell_type": "code",
   "execution_count": 27,
   "metadata": {},
   "outputs": [
    {
     "data": {
      "text/html": [
       "<div>\n",
       "<style scoped>\n",
       "    .dataframe tbody tr th:only-of-type {\n",
       "        vertical-align: middle;\n",
       "    }\n",
       "\n",
       "    .dataframe tbody tr th {\n",
       "        vertical-align: top;\n",
       "    }\n",
       "\n",
       "    .dataframe thead th {\n",
       "        text-align: right;\n",
       "    }\n",
       "\n",
       "    .dataframe td {\n",
       "        white-space: pre;\n",
       "    }\n",
       "\n",
       "    .dataframe td {\n",
       "        padding-top: 0;\n",
       "    }\n",
       "\n",
       "    .dataframe td {\n",
       "        padding-bottom: 0;\n",
       "    }\n",
       "\n",
       "    .dataframe td {\n",
       "        line-height: 95%;\n",
       "    }\n",
       "</style>\n",
       "<table border=\"1\" class=\"dataframe\" >\n",
       "<small>shape: (1, 2)</small>\n",
       "<thead>\n",
       "<tr>\n",
       "<th>\n",
       "Avg Wins per Season (post WW2)\n",
       "</th>\n",
       "<th>\n",
       "Avg Wins per Season (Interwar)\n",
       "</th>\n",
       "</tr>\n",
       "<tr>\n",
       "<td>\n",
       "f64\n",
       "</td>\n",
       "<td>\n",
       "f64\n",
       "</td>\n",
       "</tr>\n",
       "</thead>\n",
       "<tbody>\n",
       "<tr>\n",
       "<td>\n",
       "4.062594\n",
       "</td>\n",
       "<td>\n",
       "5.606054\n",
       "</td>\n",
       "</tr>\n",
       "</tbody>\n",
       "</table>\n",
       "</div>"
      ],
      "text/plain": [
       "shape: (1, 2)\n",
       "┌────────────────────────────────┬────────────────────────────────┐\n",
       "│ Avg Wins per Season (post WW2) ┆ Avg Wins per Season (Interwar) │\n",
       "│ ---                            ┆ ---                            │\n",
       "│ f64                            ┆ f64                            │\n",
       "╞════════════════════════════════╪════════════════════════════════╡\n",
       "│ 4.062594                       ┆ 5.606054                       │\n",
       "└────────────────────────────────┴────────────────────────────────┘"
      ]
     },
     "execution_count": 27,
     "metadata": {},
     "output_type": "execute_result"
    }
   ],
   "source": [
    "is_after_WW2 = pl.col('yearID') >= 1946\n",
    "is_interwar = (1918 <= pl.col('yearID')) & (pl.col('yearID') <= 1938)\n",
    "\n",
    "(pitching\n",
    "  .select([(pl.col('W')\n",
    "            .filter(is_after_WW2)\n",
    "            .mean()\n",
    "            .alias('Avg Wins per Season (post WW2)')\n",
    "           ),\n",
    "           (pl.col('W')\n",
    "            .filter(is_interwar)\n",
    "            .mean()\n",
    "            .alias('Avg Wins per Season (Interwar)')),\n",
    "          ])\n",
    ")"
   ]
  },
  {
   "cell_type": "markdown",
   "metadata": {
    "slideshow": {
     "slide_type": "slide"
    }
   },
   "source": [
    "## <font color=\"red\"> Exercise 2.5.1</font>\n",
    "\n",
    "The [dead ball era](https://en.wikipedia.org/wiki/Dead-ball_era) in MLB includes the year from about 1900 to 1918, which was known for a low number of runs per game.  After this period, the number of runs per game increased dramatically and one possible reason for this change was a changes made to the baseball at the start of the 1920 season.    \n",
    "\n",
    "**Tasks:** Complete that following tasks using `pandas` and `dfply`\n",
    "\n",
    "* Compute the average runs allowed per pitcher (column `R`) for the following two ranges of years: \n",
    "    * 1900-1919 and \n",
    "    * 1920-1939.  \n",
    "* Is there evidence of a difference in the number of runs allowed for each era?"
   ]
  },
  {
   "cell_type": "code",
   "execution_count": 28,
   "metadata": {
    "slideshow": {
     "slide_type": "fragment"
    }
   },
   "outputs": [],
   "source": [
    "# Your code here"
   ]
  },
  {
   "cell_type": "markdown",
   "metadata": {
    "slideshow": {
     "slide_type": "fragment"
    }
   },
   "source": [
    "> *Your thoughts here*"
   ]
  },
  {
   "cell_type": "markdown",
   "metadata": {
    "slideshow": {
     "slide_type": "slide"
    }
   },
   "source": [
    "## Group and Aggregate\n",
    "\n",
    "Group and aggregate\n",
    "\n",
    "* combines multiple filter + aggregates\n",
    "* considers all possible groups."
   ]
  },
  {
   "cell_type": "markdown",
   "metadata": {
    "slideshow": {
     "slide_type": "slide"
    }
   },
   "source": [
    "<img src=\"./img/group_and_aggregate.png\" width=800>"
   ]
  },
  {
   "cell_type": "markdown",
   "metadata": {
    "slideshow": {
     "slide_type": "slide"
    }
   },
   "source": [
    "## Using `when/then` to classify the years"
   ]
  },
  {
   "cell_type": "code",
   "execution_count": 39,
   "metadata": {
    "slideshow": {
     "slide_type": "fragment"
    }
   },
   "outputs": [
    {
     "data": {
      "text/html": [
       "<div>\n",
       "<style scoped>\n",
       "    .dataframe tbody tr th:only-of-type {\n",
       "        vertical-align: middle;\n",
       "    }\n",
       "\n",
       "    .dataframe tbody tr th {\n",
       "        vertical-align: top;\n",
       "    }\n",
       "\n",
       "    .dataframe thead th {\n",
       "        text-align: right;\n",
       "    }\n",
       "\n",
       "    .dataframe td {\n",
       "        white-space: pre;\n",
       "    }\n",
       "\n",
       "    .dataframe td {\n",
       "        padding-top: 0;\n",
       "    }\n",
       "\n",
       "    .dataframe td {\n",
       "        padding-bottom: 0;\n",
       "    }\n",
       "\n",
       "    .dataframe td {\n",
       "        line-height: 95%;\n",
       "    }\n",
       "</style>\n",
       "<table border=\"1\" class=\"dataframe\" >\n",
       "<small>shape: (5, 3)</small>\n",
       "<thead>\n",
       "<tr>\n",
       "<th>\n",
       "yearID\n",
       "</th>\n",
       "<th>\n",
       "R\n",
       "</th>\n",
       "<th>\n",
       "era\n",
       "</th>\n",
       "</tr>\n",
       "<tr>\n",
       "<td>\n",
       "i64\n",
       "</td>\n",
       "<td>\n",
       "i64\n",
       "</td>\n",
       "<td>\n",
       "str\n",
       "</td>\n",
       "</tr>\n",
       "</thead>\n",
       "<tbody>\n",
       "<tr>\n",
       "<td>\n",
       "1900\n",
       "</td>\n",
       "<td>\n",
       "16\n",
       "</td>\n",
       "<td>\n",
       "&quot;dead ball&quot;\n",
       "</td>\n",
       "</tr>\n",
       "<tr>\n",
       "<td>\n",
       "1900\n",
       "</td>\n",
       "<td>\n",
       "151\n",
       "</td>\n",
       "<td>\n",
       "&quot;dead ball&quot;\n",
       "</td>\n",
       "</tr>\n",
       "<tr>\n",
       "<td>\n",
       "1900\n",
       "</td>\n",
       "<td>\n",
       "111\n",
       "</td>\n",
       "<td>\n",
       "&quot;dead ball&quot;\n",
       "</td>\n",
       "</tr>\n",
       "<tr>\n",
       "<td>\n",
       "1900\n",
       "</td>\n",
       "<td>\n",
       "195\n",
       "</td>\n",
       "<td>\n",
       "&quot;dead ball&quot;\n",
       "</td>\n",
       "</tr>\n",
       "<tr>\n",
       "<td>\n",
       "1900\n",
       "</td>\n",
       "<td>\n",
       "224\n",
       "</td>\n",
       "<td>\n",
       "&quot;dead ball&quot;\n",
       "</td>\n",
       "</tr>\n",
       "</tbody>\n",
       "</table>\n",
       "</div>"
      ],
      "text/plain": [
       "shape: (5, 3)\n",
       "┌────────┬─────┬───────────┐\n",
       "│ yearID ┆ R   ┆ era       │\n",
       "│ ---    ┆ --- ┆ ---       │\n",
       "│ i64    ┆ i64 ┆ str       │\n",
       "╞════════╪═════╪═══════════╡\n",
       "│ 1900   ┆ 16  ┆ dead ball │\n",
       "├╌╌╌╌╌╌╌╌┼╌╌╌╌╌┼╌╌╌╌╌╌╌╌╌╌╌┤\n",
       "│ 1900   ┆ 151 ┆ dead ball │\n",
       "├╌╌╌╌╌╌╌╌┼╌╌╌╌╌┼╌╌╌╌╌╌╌╌╌╌╌┤\n",
       "│ 1900   ┆ 111 ┆ dead ball │\n",
       "├╌╌╌╌╌╌╌╌┼╌╌╌╌╌┼╌╌╌╌╌╌╌╌╌╌╌┤\n",
       "│ 1900   ┆ 195 ┆ dead ball │\n",
       "├╌╌╌╌╌╌╌╌┼╌╌╌╌╌┼╌╌╌╌╌╌╌╌╌╌╌┤\n",
       "│ 1900   ┆ 224 ┆ dead ball │\n",
       "└────────┴─────┴───────────┘"
      ]
     },
     "execution_count": 39,
     "metadata": {},
     "output_type": "execute_result"
    }
   ],
   "source": [
    "pl.Config.with_columns_kwargs = True\n",
    "\n",
    "eras = (pitching\n",
    "        .select(['yearID', 'R'])\n",
    "        .filter((pl.col('yearID') >= 1900) & (pl.col('yearID') < 1939))\n",
    "        .with_columns(era = pl.when(pl.col('yearID') < 1920)\n",
    "                              .then('dead ball')\n",
    "                              .otherwise('live ball')\n",
    "                     )\n",
    "       )\n",
    "eras.head()"
   ]
  },
  {
   "cell_type": "markdown",
   "metadata": {
    "slideshow": {
     "slide_type": "slide"
    }
   },
   "source": [
    "<img src=\"./img/filter_group_aggregate.png\" width=800>\n",
    "\n",
    "What we did here is actually `filter + groupby + aggregate`"
   ]
  },
  {
   "cell_type": "markdown",
   "metadata": {
    "slideshow": {
     "slide_type": "slide"
    }
   },
   "source": [
    "## Using `df.groupby` and `df.agg` "
   ]
  },
  {
   "cell_type": "code",
   "execution_count": 49,
   "metadata": {
    "scrolled": true,
    "slideshow": {
     "slide_type": "fragment"
    }
   },
   "outputs": [
    {
     "data": {
      "text/html": [
       "<div>\n",
       "<style scoped>\n",
       "    .dataframe tbody tr th:only-of-type {\n",
       "        vertical-align: middle;\n",
       "    }\n",
       "\n",
       "    .dataframe tbody tr th {\n",
       "        vertical-align: top;\n",
       "    }\n",
       "\n",
       "    .dataframe thead th {\n",
       "        text-align: right;\n",
       "    }\n",
       "\n",
       "    .dataframe td {\n",
       "        white-space: pre;\n",
       "    }\n",
       "\n",
       "    .dataframe td {\n",
       "        padding-top: 0;\n",
       "    }\n",
       "\n",
       "    .dataframe td {\n",
       "        padding-bottom: 0;\n",
       "    }\n",
       "\n",
       "    .dataframe td {\n",
       "        line-height: 95%;\n",
       "    }\n",
       "</style>\n",
       "<table border=\"1\" class=\"dataframe\" >\n",
       "<small>shape: (2, 2)</small>\n",
       "<thead>\n",
       "<tr>\n",
       "<th>\n",
       "era\n",
       "</th>\n",
       "<th>\n",
       "mean_runs\n",
       "</th>\n",
       "</tr>\n",
       "<tr>\n",
       "<td>\n",
       "str\n",
       "</td>\n",
       "<td>\n",
       "f64\n",
       "</td>\n",
       "</tr>\n",
       "</thead>\n",
       "<tbody>\n",
       "<tr>\n",
       "<td>\n",
       "&quot;dead ball&quot;\n",
       "</td>\n",
       "<td>\n",
       "49.707696\n",
       "</td>\n",
       "</tr>\n",
       "<tr>\n",
       "<td>\n",
       "&quot;live ball&quot;\n",
       "</td>\n",
       "<td>\n",
       "55.76718\n",
       "</td>\n",
       "</tr>\n",
       "</tbody>\n",
       "</table>\n",
       "</div>"
      ],
      "text/plain": [
       "shape: (2, 2)\n",
       "┌───────────┬───────────┐\n",
       "│ era       ┆ mean_runs │\n",
       "│ ---       ┆ ---       │\n",
       "│ str       ┆ f64       │\n",
       "╞═══════════╪═══════════╡\n",
       "│ dead ball ┆ 49.707696 │\n",
       "├╌╌╌╌╌╌╌╌╌╌╌┼╌╌╌╌╌╌╌╌╌╌╌┤\n",
       "│ live ball ┆ 55.76718  │\n",
       "└───────────┴───────────┘"
      ]
     },
     "execution_count": 49,
     "metadata": {},
     "output_type": "execute_result"
    }
   ],
   "source": [
    "mean_runs = (eras\n",
    "             .groupby(pl.col('era'))\n",
    "             .agg(pl.col('R').mean().alias('mean_runs'))\n",
    "            )\n",
    "mean_runs"
   ]
  },
  {
   "cell_type": "markdown",
   "metadata": {
    "slideshow": {
     "slide_type": "slide"
    }
   },
   "source": [
    "## Visualizing the data with `seaborn`"
   ]
  },
  {
   "cell_type": "code",
   "execution_count": 53,
   "metadata": {
    "slideshow": {
     "slide_type": "fragment"
    }
   },
   "outputs": [
    {
     "data": {
      "text/plain": [
       "<AxesSubplot:xlabel='era', ylabel='mean_runs'>"
      ]
     },
     "execution_count": 53,
     "metadata": {},
     "output_type": "execute_result"
    },
    {
     "data": {
      "image/png": "[encoded data removed]",
      "text/plain": [
       "<Figure size 432x288 with 1 Axes>"
      ]
     },
     "metadata": {
      "needs_background": "light"
     },
     "output_type": "display_data"
    }
   ],
   "source": [
    "import seaborn as sns\n",
    "import matplotlib.pylab as plt\n",
    "%matplotlib inline\n",
    "sns.barplot(x = \"era\", y=\"mean_runs\", data=mean_runs.to_pandas()) #seaborn needs a pandas.Dataframe"
   ]
  },
  {
   "cell_type": "markdown",
   "metadata": {
    "slideshow": {
     "slide_type": "slide"
    }
   },
   "source": [
    "## <font color=\"red\"> Exercise 2.5.2 </font>\n",
    "\n",
    "Compose the two queries into one piped expression (filter + mutate + group_by + summarise)"
   ]
  },
  {
   "cell_type": "code",
   "execution_count": 54,
   "metadata": {
    "slideshow": {
     "slide_type": "fragment"
    }
   },
   "outputs": [],
   "source": [
    "# Your code here"
   ]
  },
  {
   "cell_type": "markdown",
   "metadata": {
    "slideshow": {
     "slide_type": "slide"
    }
   },
   "source": [
    "## Grouping by more than one category\n",
    "\n",
    "* `group_by` accepts multiple columns\n",
    "* Groups all combinations"
   ]
  },
  {
   "cell_type": "markdown",
   "metadata": {
    "slideshow": {
     "slide_type": "slide"
    }
   },
   "source": [
    "## Example - Find all teams with 100+ wins in a season"
   ]
  },
  {
   "cell_type": "markdown",
   "metadata": {
    "slideshow": {
     "slide_type": "slide"
    }
   },
   "source": [
    "#### `pandas` + `dfply`"
   ]
  },
  {
   "cell_type": "code",
   "execution_count": 71,
   "metadata": {
    "slideshow": {
     "slide_type": "fragment"
    }
   },
   "outputs": [
    {
     "data": {
      "text/html": [
       "<div>\n",
       "<style scoped>\n",
       "    .dataframe tbody tr th:only-of-type {\n",
       "        vertical-align: middle;\n",
       "    }\n",
       "\n",
       "    .dataframe tbody tr th {\n",
       "        vertical-align: top;\n",
       "    }\n",
       "\n",
       "    .dataframe thead th {\n",
       "        text-align: right;\n",
       "    }\n",
       "\n",
       "    .dataframe td {\n",
       "        white-space: pre;\n",
       "    }\n",
       "\n",
       "    .dataframe td {\n",
       "        padding-top: 0;\n",
       "    }\n",
       "\n",
       "    .dataframe td {\n",
       "        padding-bottom: 0;\n",
       "    }\n",
       "\n",
       "    .dataframe td {\n",
       "        line-height: 95%;\n",
       "    }\n",
       "</style>\n",
       "<table border=\"1\" class=\"dataframe\" >\n",
       "<small>shape: (10, 3)</small>\n",
       "<thead>\n",
       "<tr>\n",
       "<th>\n",
       "yearID\n",
       "</th>\n",
       "<th>\n",
       "teamID\n",
       "</th>\n",
       "<th>\n",
       "total_wins\n",
       "</th>\n",
       "</tr>\n",
       "<tr>\n",
       "<td>\n",
       "i64\n",
       "</td>\n",
       "<td>\n",
       "str\n",
       "</td>\n",
       "<td>\n",
       "i64\n",
       "</td>\n",
       "</tr>\n",
       "</thead>\n",
       "<tbody>\n",
       "<tr>\n",
       "<td>\n",
       "2019\n",
       "</td>\n",
       "<td>\n",
       "&quot;HOU&quot;\n",
       "</td>\n",
       "<td>\n",
       "107\n",
       "</td>\n",
       "</tr>\n",
       "<tr>\n",
       "<td>\n",
       "2019\n",
       "</td>\n",
       "<td>\n",
       "&quot;LAN&quot;\n",
       "</td>\n",
       "<td>\n",
       "106\n",
       "</td>\n",
       "</tr>\n",
       "<tr>\n",
       "<td>\n",
       "2019\n",
       "</td>\n",
       "<td>\n",
       "&quot;NYA&quot;\n",
       "</td>\n",
       "<td>\n",
       "103\n",
       "</td>\n",
       "</tr>\n",
       "<tr>\n",
       "<td>\n",
       "2019\n",
       "</td>\n",
       "<td>\n",
       "&quot;MIN&quot;\n",
       "</td>\n",
       "<td>\n",
       "101\n",
       "</td>\n",
       "</tr>\n",
       "<tr>\n",
       "<td>\n",
       "2018\n",
       "</td>\n",
       "<td>\n",
       "&quot;BOS&quot;\n",
       "</td>\n",
       "<td>\n",
       "108\n",
       "</td>\n",
       "</tr>\n",
       "<tr>\n",
       "<td>\n",
       "2018\n",
       "</td>\n",
       "<td>\n",
       "&quot;HOU&quot;\n",
       "</td>\n",
       "<td>\n",
       "103\n",
       "</td>\n",
       "</tr>\n",
       "<tr>\n",
       "<td>\n",
       "2018\n",
       "</td>\n",
       "<td>\n",
       "&quot;NYA&quot;\n",
       "</td>\n",
       "<td>\n",
       "100\n",
       "</td>\n",
       "</tr>\n",
       "<tr>\n",
       "<td>\n",
       "2017\n",
       "</td>\n",
       "<td>\n",
       "&quot;LAN&quot;\n",
       "</td>\n",
       "<td>\n",
       "104\n",
       "</td>\n",
       "</tr>\n",
       "<tr>\n",
       "<td>\n",
       "2017\n",
       "</td>\n",
       "<td>\n",
       "&quot;CLE&quot;\n",
       "</td>\n",
       "<td>\n",
       "102\n",
       "</td>\n",
       "</tr>\n",
       "<tr>\n",
       "<td>\n",
       "2017\n",
       "</td>\n",
       "<td>\n",
       "&quot;HOU&quot;\n",
       "</td>\n",
       "<td>\n",
       "101\n",
       "</td>\n",
       "</tr>\n",
       "</tbody>\n",
       "</table>\n",
       "</div>"
      ],
      "text/plain": [
       "shape: (10, 3)\n",
       "┌────────┬────────┬────────────┐\n",
       "│ yearID ┆ teamID ┆ total_wins │\n",
       "│ ---    ┆ ---    ┆ ---        │\n",
       "│ i64    ┆ str    ┆ i64        │\n",
       "╞════════╪════════╪════════════╡\n",
       "│ 2019   ┆ HOU    ┆ 107        │\n",
       "├╌╌╌╌╌╌╌╌┼╌╌╌╌╌╌╌╌┼╌╌╌╌╌╌╌╌╌╌╌╌┤\n",
       "│ 2019   ┆ LAN    ┆ 106        │\n",
       "├╌╌╌╌╌╌╌╌┼╌╌╌╌╌╌╌╌┼╌╌╌╌╌╌╌╌╌╌╌╌┤\n",
       "│ 2019   ┆ NYA    ┆ 103        │\n",
       "├╌╌╌╌╌╌╌╌┼╌╌╌╌╌╌╌╌┼╌╌╌╌╌╌╌╌╌╌╌╌┤\n",
       "│ 2019   ┆ MIN    ┆ 101        │\n",
       "├╌╌╌╌╌╌╌╌┼╌╌╌╌╌╌╌╌┼╌╌╌╌╌╌╌╌╌╌╌╌┤\n",
       "│ ...    ┆ ...    ┆ ...        │\n",
       "├╌╌╌╌╌╌╌╌┼╌╌╌╌╌╌╌╌┼╌╌╌╌╌╌╌╌╌╌╌╌┤\n",
       "│ 2018   ┆ NYA    ┆ 100        │\n",
       "├╌╌╌╌╌╌╌╌┼╌╌╌╌╌╌╌╌┼╌╌╌╌╌╌╌╌╌╌╌╌┤\n",
       "│ 2017   ┆ LAN    ┆ 104        │\n",
       "├╌╌╌╌╌╌╌╌┼╌╌╌╌╌╌╌╌┼╌╌╌╌╌╌╌╌╌╌╌╌┤\n",
       "│ 2017   ┆ CLE    ┆ 102        │\n",
       "├╌╌╌╌╌╌╌╌┼╌╌╌╌╌╌╌╌┼╌╌╌╌╌╌╌╌╌╌╌╌┤\n",
       "│ 2017   ┆ HOU    ┆ 101        │\n",
       "└────────┴────────┴────────────┘"
      ]
     },
     "execution_count": 71,
     "metadata": {},
     "output_type": "execute_result"
    }
   ],
   "source": [
    "(pitching\n",
    " .select([pl.col('yearID'), pl.col('teamID'), pl.col('W')])\n",
    " .groupby([pl.col('yearID'), pl.col('teamID')])\n",
    " .agg(pl.col('W').sum().alias('total_wins'))\n",
    " .filter(pl.col('total_wins') >= 100)\n",
    " .sort([pl.col('yearID'), pl.col('total_wins')],\n",
    "       reverse=[True, True])\n",
    " .head(10)\n",
    ")"
   ]
  },
  {
   "cell_type": "markdown",
   "metadata": {
    "slideshow": {
     "slide_type": "slide"
    }
   },
   "source": [
    "## The last comparison might not be fair\n",
    "\n",
    "Comparison is only fair if pitchers all pitch the same number of outs/games/innings.  Let's see if there is a difference between the eras in terms of outs pitched (`IPouts`)."
   ]
  },
  {
   "cell_type": "code",
   "execution_count": 78,
   "metadata": {
    "slideshow": {
     "slide_type": "fragment"
    }
   },
   "outputs": [
    {
     "data": {
      "text/html": [
       "<div>\n",
       "<style scoped>\n",
       "    .dataframe tbody tr th:only-of-type {\n",
       "        vertical-align: middle;\n",
       "    }\n",
       "\n",
       "    .dataframe tbody tr th {\n",
       "        vertical-align: top;\n",
       "    }\n",
       "\n",
       "    .dataframe thead th {\n",
       "        text-align: right;\n",
       "    }\n",
       "\n",
       "    .dataframe td {\n",
       "        white-space: pre;\n",
       "    }\n",
       "\n",
       "    .dataframe td {\n",
       "        padding-top: 0;\n",
       "    }\n",
       "\n",
       "    .dataframe td {\n",
       "        padding-bottom: 0;\n",
       "    }\n",
       "\n",
       "    .dataframe td {\n",
       "        line-height: 95%;\n",
       "    }\n",
       "</style>\n",
       "<table border=\"1\" class=\"dataframe\" >\n",
       "<small>shape: (2, 2)</small>\n",
       "<thead>\n",
       "<tr>\n",
       "<th>\n",
       "era\n",
       "</th>\n",
       "<th>\n",
       "mean_outs\n",
       "</th>\n",
       "</tr>\n",
       "<tr>\n",
       "<td>\n",
       "str\n",
       "</td>\n",
       "<td>\n",
       "f64\n",
       "</td>\n",
       "</tr>\n",
       "</thead>\n",
       "<tbody>\n",
       "<tr>\n",
       "<td>\n",
       "&quot;after dead bal...\n",
       "</td>\n",
       "<td>\n",
       "303.468541\n",
       "</td>\n",
       "</tr>\n",
       "<tr>\n",
       "<td>\n",
       "&quot;dead ball&quot;\n",
       "</td>\n",
       "<td>\n",
       "336.067023\n",
       "</td>\n",
       "</tr>\n",
       "</tbody>\n",
       "</table>\n",
       "</div>"
      ],
      "text/plain": [
       "shape: (2, 2)\n",
       "┌─────────────────┬────────────┐\n",
       "│ era             ┆ mean_outs  │\n",
       "│ ---             ┆ ---        │\n",
       "│ str             ┆ f64        │\n",
       "╞═════════════════╪════════════╡\n",
       "│ after dead ball ┆ 303.468541 │\n",
       "├╌╌╌╌╌╌╌╌╌╌╌╌╌╌╌╌╌┼╌╌╌╌╌╌╌╌╌╌╌╌┤\n",
       "│ dead ball       ┆ 336.067023 │\n",
       "└─────────────────┴────────────┘"
      ]
     },
     "execution_count": 78,
     "metadata": {},
     "output_type": "execute_result"
    }
   ],
   "source": [
    "mean_outs = (pitching\n",
    "             .select([pl.col('IPouts'), pl.col('yearID')])\n",
    "             .filter((pl.col('yearID') >= 1900) & (pl.col('yearID') < 1940))\n",
    "             .with_columns(era = pl.when(pl.col('yearID') < 1920)\n",
    "                                   .then(\"dead ball\")\n",
    "                                   .otherwise(\"after dead ball\"))\n",
    "             .groupby(pl.col('era'))\n",
    "             .agg(pl.col('IPouts').mean().alias('mean_outs'))\n",
    "            )\n",
    "mean_outs.head()"
   ]
  },
  {
   "cell_type": "code",
   "execution_count": 79,
   "metadata": {
    "slideshow": {
     "slide_type": "slide"
    }
   },
   "outputs": [
    {
     "data": {
      "text/plain": [
       "<AxesSubplot:xlabel='era', ylabel='mean_outs'>"
      ]
     },
     "execution_count": 79,
     "metadata": {},
     "output_type": "execute_result"
    },
    {
     "data": {
      "image/png": "[encoded data removed]",
      "text/plain": [
       "<Figure size 432x288 with 1 Axes>"
      ]
     },
     "metadata": {
      "needs_background": "light"
     },
     "output_type": "display_data"
    }
   ],
   "source": [
    "sns.barplot(x = \"era\", y=\"mean_outs\", data=mean_outs.to_pandas())"
   ]
  },
  {
   "cell_type": "markdown",
   "metadata": {
    "slideshow": {
     "slide_type": "slide"
    }
   },
   "source": [
    "## A more fair comparison\n",
    "\n",
    "Instead of comparing the era's on a per-pitcher basis, let's compare on a per year basis.  We will\n",
    "\n",
    "1. Compute the total runs and total IPouts per year.\n",
    "2. Compute the ratio of these totals for each year.\n",
    "3. Compute the average value of the ratio for each era"
   ]
  },
  {
   "cell_type": "code",
   "execution_count": 84,
   "metadata": {
    "slideshow": {
     "slide_type": "fragment"
    }
   },
   "outputs": [
    {
     "data": {
      "text/html": [
       "<div>\n",
       "<style scoped>\n",
       "    .dataframe tbody tr th:only-of-type {\n",
       "        vertical-align: middle;\n",
       "    }\n",
       "\n",
       "    .dataframe tbody tr th {\n",
       "        vertical-align: top;\n",
       "    }\n",
       "\n",
       "    .dataframe thead th {\n",
       "        text-align: right;\n",
       "    }\n",
       "\n",
       "    .dataframe td {\n",
       "        white-space: pre;\n",
       "    }\n",
       "\n",
       "    .dataframe td {\n",
       "        padding-top: 0;\n",
       "    }\n",
       "\n",
       "    .dataframe td {\n",
       "        padding-bottom: 0;\n",
       "    }\n",
       "\n",
       "    .dataframe td {\n",
       "        line-height: 95%;\n",
       "    }\n",
       "</style>\n",
       "<table border=\"1\" class=\"dataframe\" >\n",
       "<small>shape: (2, 2)</small>\n",
       "<thead>\n",
       "<tr>\n",
       "<th>\n",
       "era\n",
       "</th>\n",
       "<th>\n",
       "mean_runs_per_out\n",
       "</th>\n",
       "</tr>\n",
       "<tr>\n",
       "<td>\n",
       "str\n",
       "</td>\n",
       "<td>\n",
       "f64\n",
       "</td>\n",
       "</tr>\n",
       "</thead>\n",
       "<tbody>\n",
       "<tr>\n",
       "<td>\n",
       "&quot;dead ball&quot;\n",
       "</td>\n",
       "<td>\n",
       "0.14992\n",
       "</td>\n",
       "</tr>\n",
       "<tr>\n",
       "<td>\n",
       "&quot;after dead bal...\n",
       "</td>\n",
       "<td>\n",
       "0.182218\n",
       "</td>\n",
       "</tr>\n",
       "</tbody>\n",
       "</table>\n",
       "</div>"
      ],
      "text/plain": [
       "shape: (2, 2)\n",
       "┌─────────────────┬───────────────────┐\n",
       "│ era             ┆ mean_runs_per_out │\n",
       "│ ---             ┆ ---               │\n",
       "│ str             ┆ f64               │\n",
       "╞═════════════════╪═══════════════════╡\n",
       "│ dead ball       ┆ 0.14992           │\n",
       "├╌╌╌╌╌╌╌╌╌╌╌╌╌╌╌╌╌┼╌╌╌╌╌╌╌╌╌╌╌╌╌╌╌╌╌╌╌┤\n",
       "│ after dead ball ┆ 0.182218          │\n",
       "└─────────────────┴───────────────────┘"
      ]
     },
     "execution_count": 84,
     "metadata": {},
     "output_type": "execute_result"
    }
   ],
   "source": [
    "mean_runs_per_out = (pitching\n",
    "                     .select([pl.col('IPouts'), pl.col('yearID'), pl.col('R')])\n",
    "                     .filter((pl.col('yearID') >= 1900) & (pl.col('yearID') < 1940))\n",
    "                     .groupby(pl.col('yearID'))\n",
    "                     .agg([pl.col('R').sum().alias('total_runs'),\n",
    "                           pl.col('IPouts').sum().alias('total_ipouts')\n",
    "                          ])\n",
    "                     .with_columns(runs_per_out = pl.col('total_runs')/pl.col('total_ipouts'),\n",
    "                                   era = pl.when(pl.col('yearID') < 1920)\n",
    "                                           .then(\"dead ball\")\n",
    "                                           .otherwise(\"after dead ball\"))\n",
    "                     .groupby(pl.col('era'))\n",
    "                     .agg(pl.col('runs_per_out').mean().alias('mean_runs_per_out'))\n",
    "                    )\n",
    "mean_runs_per_out"
   ]
  },
  {
   "cell_type": "code",
   "execution_count": 85,
   "metadata": {
    "slideshow": {
     "slide_type": "slide"
    }
   },
   "outputs": [
    {
     "data": {
      "text/plain": [
       "<AxesSubplot:xlabel='era', ylabel='mean_runs_per_out'>"
      ]
     },
     "execution_count": 85,
     "metadata": {},
     "output_type": "execute_result"
    },
    {
     "data": {
      "image/png": "[encoded data removed]",
      "text/plain": [
       "<Figure size 432x288 with 1 Axes>"
      ]
     },
     "metadata": {
      "needs_background": "light"
     },
     "output_type": "display_data"
    }
   ],
   "source": [
    "sns.barplot(x = \"era\", y=\"mean_runs_per_out\", data=mean_runs_per_out.to_pandas())"
   ]
  },
  {
   "cell_type": "markdown",
   "metadata": {
    "slideshow": {
     "slide_type": "slide"
    }
   },
   "source": [
    "## <font color=\"red\"> Exercise 2.5.3 </font>\n",
    "\n",
    "It would be easier to understand this result if we were computing runs on a per-game basis.  Redo the last problem, both this time compute `mean_runs_per_9_innings`.  **Hint:** There are 27 outs in a 9 inning game."
   ]
  },
  {
   "cell_type": "code",
   "execution_count": 22,
   "metadata": {
    "slideshow": {
     "slide_type": "fragment"
    }
   },
   "outputs": [],
   "source": [
    "# Your code here"
   ]
  },
  {
   "cell_type": "markdown",
   "metadata": {
    "slideshow": {
     "slide_type": "fragment"
    }
   },
   "source": [
    "## <font color=\"red\"> Exercise 2.5.4 </font>\n",
    "\n",
    "Compute and plot the average home runs per game allowed per year for all years in the pitching table.  To accomplish this task, you should\n",
    "\n",
    "1. Aggregate total `HR` and `IPouts` for each year.\n",
    "1. Create a `games_pitched`, which is computed by dividing total inning pitched outs `IPouts` by 27, the number of outs in a game.\n",
    "2. Create a `hr_per_game` column by dividing the total `HR` for each year by `games_pitched` for each year.\n",
    "4. Make line plot of the results. You will need to create a new column `HR_per_game` then perform the group and aggregate. You can use [seaborn's lineplot](https://seaborn.pydata.org/generated/seaborn.lineplot.html) to make the graph."
   ]
  },
  {
   "cell_type": "code",
   "execution_count": 25,
   "metadata": {
    "slideshow": {
     "slide_type": "fragment"
    }
   },
   "outputs": [],
   "source": [
    "# Your refactored code here"
   ]
  }
 ],
 "metadata": {
  "celltoolbar": "Slideshow",
  "kernelspec": {
   "display_name": "Python 3 (ipykernel)",
   "language": "python",
   "name": "python3"
  },
  "language_info": {
   "codemirror_mode": {
    "name": "ipython",
    "version": 3
   },
   "file_extension": ".py",
   "mimetype": "text/x-python",
   "name": "python",
   "nbconvert_exporter": "python",
   "pygments_lexer": "ipython3",
   "version": "3.9.12"
  },
  "varInspector": {
   "cols": {
    "lenName": 16,
    "lenType": 16,
    "lenVar": 40
   },
   "kernels_config": {
    "python": {
     "delete_cmd_postfix": "",
     "delete_cmd_prefix": "del ",
     "library": "var_list.py",
     "varRefreshCmd": "print(var_dic_list())"
    },
    "r": {
     "delete_cmd_postfix": ") ",
     "delete_cmd_prefix": "rm(",
     "library": "var_list.r",
     "varRefreshCmd": "cat(var_dic_list()) "
    }
   },
   "types_to_exclude": [
    "module",
    "function",
    "builtin_function_or_method",
    "instance",
    "_Feature"
   ],
   "window_display": false
  }
 },
 "nbformat": 4,
 "nbformat_minor": 2
}
